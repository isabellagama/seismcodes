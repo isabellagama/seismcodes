{
  "nbformat": 4,
  "nbformat_minor": 0,
  "metadata": {
    "colab": {
      "name": "Gama_HW0_spr21.ipynb",
      "provenance": [],
      "collapsed_sections": [
        "xwgFJTNzeVZh"
      ],
      "include_colab_link": true
    },
    "kernelspec": {
      "name": "python3",
      "display_name": "Python 3"
    }
  },
  "cells": [
    {
      "cell_type": "markdown",
      "metadata": {
        "id": "view-in-github",
        "colab_type": "text"
      },
      "source": [
        "<a href=\"https://colab.research.google.com/github/isabellagama/seismcodes/blob/master/Gama_HW0_spr21.ipynb\" target=\"_parent\"><img src=\"https://colab.research.google.com/assets/colab-badge.svg\" alt=\"Open In Colab\"/></a>"
      ]
    },
    {
      "cell_type": "markdown",
      "metadata": {
        "id": "AQnZEO-ECCzW"
      },
      "source": [
        "# Welcome to EEPS 1960D Machine Learning for the Earth and Environment!\n",
        "\n",
        "This first assignment will help to familiarize you with the Python programming language and Google Colab notebooks.\n",
        "\n",
        "**For this assignment you will primarily be running code examples, but you will also write a little bit of Python code ($<$20 lines) yourself.**\n",
        "\n",
        "***After completing this assignment you will be able to:***\n",
        "\n",
        "\n",
        "*   Install and load Python libraries, packages and modules. (Activity 0)\n",
        "*   Write a simple function in Python. (Activity 1)\n",
        "*   Connect Google Colab with your Google Drive, and load data from a file using the Pandas package. (Activities 0 and 2)\n",
        "*   Make simple plots using the Matplotlib package. (Activity 2)\n",
        "*   Perform basic array manipulations and calculations using the Numpy and Scipy packages. (Activity 3)\n",
        "\n"
      ]
    },
    {
      "cell_type": "markdown",
      "metadata": {
        "id": "S06XeT06PM25"
      },
      "source": [
        "## Tasks for Assignment 0\n",
        "\n",
        "Run all of the code cells in the Colab Notebook and write your own code to complete the following exercises:\n",
        "\n",
        "**Exercise 1A:** One line of code that removes error obtained when executing: `add_multiply(b=2, c=5)`.\n",
        "\n",
        "**Exercise 1B:** Code for function `my_factorial(n)` containing a `for` loop, and outputs for `my_factorial(5)` and `my_factorial(10)`. You can check your results against `math.factorial()`. \n",
        "\n",
        "**Exercise 2A:** One line of code for reading specific columns of a CSV file with Pandas.\n",
        "\n",
        "**Exercise 2B:** Following examples in the section, make a visually appealing and appropriately labeled graphic. \n",
        "\n",
        "**Exercise 3A:** One line of code practicing array indexing and slicing in NumPy.\n",
        "\n",
        "**Exercise 3B:** This exercise has 3 steps. \n",
        "*  Step 1: define a Python function using NumPy mathematical functions (one line of code). \n",
        "*  Step 2: Sample a set of points from a function with Gaussian noise (three lines of code). \n",
        "*  Step 3: Use SciPy to interpolate the sampled points and plot the spline fit. (three lines of code) "
      ]
    },
    {
      "cell_type": "markdown",
      "metadata": {
        "id": "p1lyC2Myni9a"
      },
      "source": [
        "### Collaboration Policy\n",
        "\n",
        "For this assignment, students may discuss the assignment on [Piazza](piazza.com/brown/spring2021/spring2021eeps1960d), with other students, or with the course staff during office hours. \n",
        "\n",
        "**Each student must write their own code** and list the names of any collaborators."
      ]
    },
    {
      "cell_type": "markdown",
      "metadata": {
        "id": "SA5IFAB6oa3R"
      },
      "source": [
        "### Submitting the Assignment\n",
        "\n",
        "Check Canvas for submission instructions. "
      ]
    },
    {
      "cell_type": "markdown",
      "metadata": {
        "id": "6twClzuDCLbl"
      },
      "source": [
        "# Activity 0: Getting started with Google Colab notebooks"
      ]
    },
    {
      "cell_type": "markdown",
      "metadata": {
        "id": "Qbxxl3B-BqnL"
      },
      "source": [
        "In this course, we will be using Google Colab notebooks as a platform for writing and running Python code in the cloud. \n",
        "\n",
        "Please watch the following video, which will introduce you to Colab: [Jupyter on the Web with Colab](https://youtu.be/yEIc9z-Ad3k)  [4 minutes]\n",
        "\n",
        "\n",
        "In Google Colab there are \"text cells\" (which you are reading right now) and \"code cells\" which contain Python code. In order to \"run\" code, you place your mouse in a \"code cell\" and an arrow within a circle will appear. Simply click on the arrow to run the cell (Keyboard shortcut: SHIFT + ENTER).\n",
        "\n",
        "**Try running the code cell below:**"
      ]
    },
    {
      "cell_type": "code",
      "metadata": {
        "id": "ErnGqBjoBnuY",
        "colab": {
          "base_uri": "https://localhost:8080/"
        },
        "outputId": "a691b1ae-cf45-4610-bba7-051a90083b7b"
      },
      "source": [
        "1374 + 647"
      ],
      "execution_count": 1,
      "outputs": [
        {
          "output_type": "execute_result",
          "data": {
            "text/plain": [
              "2021"
            ]
          },
          "metadata": {
            "tags": []
          },
          "execution_count": 1
        }
      ]
    },
    {
      "cell_type": "markdown",
      "metadata": {
        "id": "P1cWlkxjWG7T"
      },
      "source": [
        "## Mounting your Google Drive\n",
        "\n",
        "The first step is to connect or \"mount\" your Google Drive to Colab. This allows you to automatically save your Colab notebooks to your Google Drive. It also allows you to access data saved in your Google Drive from Colab and export outputs to your Google Drive folders.\n",
        "\n",
        "**Run the block of code below to mount your Google Drive to Colab.** It will prompt you to follow a URL to receive an authorization code. Click the link, then copy and paste the code into the input box to mount your Google Drive."
      ]
    },
    {
      "cell_type": "code",
      "metadata": {
        "id": "jjERYFGuA01n"
      },
      "source": [
        ""
      ],
      "execution_count": 1,
      "outputs": []
    },
    {
      "cell_type": "code",
      "metadata": {
        "id": "hHDPPNiHB2c4",
        "colab": {
          "base_uri": "https://localhost:8080/"
        },
        "outputId": "998a14fa-9d86-4d57-8b9d-90c5aa16bbd1"
      },
      "source": [
        "from google.colab import drive\n",
        "drive.mount('/content/drive', force_remount=True)"
      ],
      "execution_count": 2,
      "outputs": [
        {
          "output_type": "stream",
          "text": [
            "Mounted at /content/drive\n"
          ],
          "name": "stdout"
        }
      ]
    },
    {
      "cell_type": "markdown",
      "metadata": {
        "id": "T80ZuzPDCisX"
      },
      "source": [
        "Once you have mounted your Google Drive to Colab, you will be able to access your files. In the menu on the left side of the page, you will see a folder icon. Clicking on this will allow you to navigate to your files in \"drive > MyDrive\". \n",
        "\n",
        "In this course I will store my files in `/content/drive/MyDrive/EEPS1960D-Spr21/data`. You can create a similar file path for storing your files, or replace this path with your own in the Colab notebooks. You can get the path to any file by right-clicking on the file name in the navigation menu and selecting \"copy path\".\n",
        "\n"
      ]
    },
    {
      "cell_type": "code",
      "metadata": {
        "id": "xWPzJfLtg3U-"
      },
      "source": [
        "MY_PATH = '/content/drive/MyDrive/EEPS1960_ML/data/'  # replace this with your own path in Google Drive"
      ],
      "execution_count": 3,
      "outputs": []
    },
    {
      "cell_type": "markdown",
      "metadata": {
        "id": "ekEsQxTidlgg"
      },
      "source": [
        "### [optional] Other ways to access your data files\n",
        "\n",
        "There are other ways to import data into Colab Notebooks. You can read more options [here](https://neptune.ai/blog/google-colab-dealing-with-files). \n",
        "\n",
        "For example, it is also possible to access local files from your computer in Colab (works in the Chrome browser, but did not work for me in Safari). This tends to be slower and less convenient than accessing your files through Google Drive. \n",
        "\n",
        "The following code would allow you to access local file `filename.csv` and open it with the `pandas` library. We'll see the `pandas` library below. \n",
        "\n",
        "```\n",
        "from google.colab import files\n",
        "data_to_load = files.upload()\n",
        "\n",
        "import io\n",
        "import pandas as pd\n",
        "df = pd.read_csv(io.BytesIO(data_to_load['filename.csv']))\n",
        "```\n",
        "\n"
      ]
    },
    {
      "cell_type": "code",
      "metadata": {
        "id": "rA8Ix30CBsk3",
        "colab": {
          "base_uri": "https://localhost:8080/",
          "height": 198
        },
        "outputId": "0f2a619f-602f-4281-cfc9-429dab6f88e3"
      },
      "source": [
        "from google.colab import files\n",
        "#data_to_load = files.upload()\n",
        " \n",
        "import io\n",
        "import pandas as pd\n",
        "df = pd.read_csv(io.BytesIO(data_to_load['filename.csv']))"
      ],
      "execution_count": 14,
      "outputs": [
        {
          "output_type": "error",
          "ename": "NameError",
          "evalue": "ignored",
          "traceback": [
            "\u001b[0;31m---------------------------------------------------------------------------\u001b[0m",
            "\u001b[0;31mNameError\u001b[0m                                 Traceback (most recent call last)",
            "\u001b[0;32m<ipython-input-14-b783bc69a9f8>\u001b[0m in \u001b[0;36m<module>\u001b[0;34m()\u001b[0m\n\u001b[1;32m      4\u001b[0m \u001b[0;32mimport\u001b[0m \u001b[0mio\u001b[0m\u001b[0;34m\u001b[0m\u001b[0;34m\u001b[0m\u001b[0m\n\u001b[1;32m      5\u001b[0m \u001b[0;32mimport\u001b[0m \u001b[0mpandas\u001b[0m \u001b[0;32mas\u001b[0m \u001b[0mpd\u001b[0m\u001b[0;34m\u001b[0m\u001b[0;34m\u001b[0m\u001b[0m\n\u001b[0;32m----> 6\u001b[0;31m \u001b[0mdf\u001b[0m \u001b[0;34m=\u001b[0m \u001b[0mpd\u001b[0m\u001b[0;34m.\u001b[0m\u001b[0mread_csv\u001b[0m\u001b[0;34m(\u001b[0m\u001b[0mio\u001b[0m\u001b[0;34m.\u001b[0m\u001b[0mBytesIO\u001b[0m\u001b[0;34m(\u001b[0m\u001b[0mdata_to_load\u001b[0m\u001b[0;34m[\u001b[0m\u001b[0;34m'filename.csv'\u001b[0m\u001b[0;34m]\u001b[0m\u001b[0;34m)\u001b[0m\u001b[0;34m)\u001b[0m\u001b[0;34m\u001b[0m\u001b[0;34m\u001b[0m\u001b[0m\n\u001b[0m",
            "\u001b[0;31mNameError\u001b[0m: name 'data_to_load' is not defined"
          ]
        }
      ]
    },
    {
      "cell_type": "markdown",
      "metadata": {
        "id": "DmgaX5NOX8Ds"
      },
      "source": [
        "## Loading and installing Python libraries"
      ]
    },
    {
      "cell_type": "markdown",
      "metadata": {
        "id": "VCdCn0FgVHT-"
      },
      "source": [
        "In Python, you can only use functions that your program can access. This is because Python requires you to define everything before it can be used within your program. \n",
        "\n",
        "***Importing*** refers to giving your Python code access to the code in another file, module, package or library. For example, to use certain mathematical functions, you must import the `math` package first. \n",
        "\n",
        "Many of the widely used data science tools (e.g. `numpy`, `scipy`, `matplotlib`, `pandas`, `scikit-learn`, `TensorFlow`) are already installed in Colab, but you must explicitly import these packages before they can be used.\n",
        "\n",
        "You can find the list of available packages/libraries in Colab using the  `!pip freeze` command.\n",
        "\n",
        "**Run the following code, which will import the `numpy` package and the `pyplot` module from the `matplotlib` package**. We will work with these packages in the section below. "
      ]
    },
    {
      "cell_type": "code",
      "metadata": {
        "id": "kXTeK5HoDQF_"
      },
      "source": [
        "import numpy as np\n",
        "from matplotlib import pyplot as plt\n"
      ],
      "execution_count": 5,
      "outputs": []
    },
    {
      "cell_type": "markdown",
      "metadata": {
        "id": "9Dx2ha9ZZkgG"
      },
      "source": [
        "`import numpy as np` imports the `numpy` package and tells your program that you will use the name `np` to access `numpy` functions or modules within your code. You can read more about different ways of importing `numpy` [here](https://www.quora.com/What-is-the-difference-between-import-numpy-and-from-numpy-import-*). In this course we will generally use \n",
        "\n",
        "\n",
        "`from matplotlib import pyplot as plt` imports only the `pyplot` module from the `matplotlib` package. The `pyplot` module is renamed `plt` within your code (such that `plt.plot()` will call the function [`matplotlib.pyplot.plot`](https://matplotlib.org/3.3.3/api/_as_gen/matplotlib.pyplot.plot.html))\n",
        "\n",
        "More information about importing in Python can be found [here](https://chrisyeh96.github.io/2017/08/08/definitive-guide-python-imports.html)."
      ]
    },
    {
      "cell_type": "markdown",
      "metadata": {
        "id": "qdaEXWCwYVyZ"
      },
      "source": [
        "### (optional) Installing additional packages: [ObsPy](https://docs.obspy.org)\n",
        "\n",
        "To import a library that is not available in Colab by default, you can use `!pip install` or `!apt-get install`, where the `!` means to execute the line on the command line, rather than the python interpreter.\n",
        "\n",
        "For an example, **click \"run\" on the next code block to install the [`obspy`](https://docs.obspy.org) package** (an open-source project dedicated to provide a Python framework for processing seismological data). \n",
        "\n",
        "*Note: Installing this package may take a few minutes.*\n",
        "\n"
      ]
    },
    {
      "cell_type": "code",
      "metadata": {
        "id": "lQfrqmhXYC0l",
        "colab": {
          "base_uri": "https://localhost:8080/"
        },
        "outputId": "967565e5-31e4-4a84-e9bb-c68e5afaa675"
      },
      "source": [
        "!pip install obspy\n"
      ],
      "execution_count": 6,
      "outputs": [
        {
          "output_type": "stream",
          "text": [
            "Collecting obspy\n",
            "\u001b[?25l  Downloading https://files.pythonhosted.org/packages/b8/8c/eef47074a1884c73bc4f2ba7b2961a79fc54952edadeff4b998de86dcb20/obspy-1.2.2.zip (24.7MB)\n",
            "\u001b[K     |████████████████████████████████| 24.7MB 53.1MB/s \n",
            "\u001b[?25h  Installing build dependencies ... \u001b[?25l\u001b[?25hdone\n",
            "  Getting requirements to build wheel ... \u001b[?25l\u001b[?25hdone\n",
            "  Installing backend dependencies ... \u001b[?25l\u001b[?25hdone\n",
            "    Preparing wheel metadata ... \u001b[?25l\u001b[?25hdone\n",
            "Requirement already satisfied: matplotlib>=1.1.0 in /usr/local/lib/python3.6/dist-packages (from obspy) (3.2.2)\n",
            "Requirement already satisfied: numpy>=1.6.1 in /usr/local/lib/python3.6/dist-packages (from obspy) (1.19.5)\n",
            "Requirement already satisfied: lxml in /usr/local/lib/python3.6/dist-packages (from obspy) (4.2.6)\n",
            "Requirement already satisfied: sqlalchemy in /usr/local/lib/python3.6/dist-packages (from obspy) (1.3.22)\n",
            "Requirement already satisfied: scipy>=0.9.0 in /usr/local/lib/python3.6/dist-packages (from obspy) (1.4.1)\n",
            "Requirement already satisfied: setuptools in /usr/local/lib/python3.6/dist-packages (from obspy) (51.3.3)\n",
            "Requirement already satisfied: decorator in /usr/local/lib/python3.6/dist-packages (from obspy) (4.4.2)\n",
            "Requirement already satisfied: requests in /usr/local/lib/python3.6/dist-packages (from obspy) (2.23.0)\n",
            "Requirement already satisfied: future>=0.12.4 in /usr/local/lib/python3.6/dist-packages (from obspy) (0.16.0)\n",
            "Requirement already satisfied: python-dateutil>=2.1 in /usr/local/lib/python3.6/dist-packages (from matplotlib>=1.1.0->obspy) (2.8.1)\n",
            "Requirement already satisfied: cycler>=0.10 in /usr/local/lib/python3.6/dist-packages (from matplotlib>=1.1.0->obspy) (0.10.0)\n",
            "Requirement already satisfied: kiwisolver>=1.0.1 in /usr/local/lib/python3.6/dist-packages (from matplotlib>=1.1.0->obspy) (1.3.1)\n",
            "Requirement already satisfied: pyparsing!=2.0.4,!=2.1.2,!=2.1.6,>=2.0.1 in /usr/local/lib/python3.6/dist-packages (from matplotlib>=1.1.0->obspy) (2.4.7)\n",
            "Requirement already satisfied: idna<3,>=2.5 in /usr/local/lib/python3.6/dist-packages (from requests->obspy) (2.10)\n",
            "Requirement already satisfied: urllib3!=1.25.0,!=1.25.1,<1.26,>=1.21.1 in /usr/local/lib/python3.6/dist-packages (from requests->obspy) (1.24.3)\n",
            "Requirement already satisfied: certifi>=2017.4.17 in /usr/local/lib/python3.6/dist-packages (from requests->obspy) (2020.12.5)\n",
            "Requirement already satisfied: chardet<4,>=3.0.2 in /usr/local/lib/python3.6/dist-packages (from requests->obspy) (3.0.4)\n",
            "Requirement already satisfied: six>=1.5 in /usr/local/lib/python3.6/dist-packages (from python-dateutil>=2.1->matplotlib>=1.1.0->obspy) (1.15.0)\n",
            "Building wheels for collected packages: obspy\n",
            "  Building wheel for obspy (PEP 517) ... \u001b[?25l\u001b[?25hdone\n",
            "  Created wheel for obspy: filename=obspy-1.2.2-cp36-cp36m-linux_x86_64.whl size=21665116 sha256=a9b572679c895d89156928427a507825df8584eb3068595d2872e9cdb142c5f6\n",
            "  Stored in directory: /root/.cache/pip/wheels/94/e0/86/44fd4cea7661f42431c8f6d030f2758ff275cccffcbe8fa2b8\n",
            "Successfully built obspy\n",
            "Installing collected packages: obspy\n",
            "Successfully installed obspy-1.2.2\n"
          ],
          "name": "stdout"
        }
      ]
    },
    {
      "cell_type": "markdown",
      "metadata": {
        "id": "qZ0kOdowdq5G"
      },
      "source": [
        "After `obspy` package is installed, you must separately import the package or modules in order to use it.\n",
        "\n",
        "Below we will `import` only the function ([`obspy.imagine.beachball.beachball`](https://docs.obspy.org/packages/autogen/obspy.imaging.beachball.html)) and class ([`obspy.taup.TauPyModel`](https://docs.obspy.org/packages/autogen/obspy.taup.tau.TauPyModel.html)) that we need rather than the entire `obspy` package. \n",
        "\n",
        "**Run the two code cells below** (don't worry about what this code is doing: you should get two plots):"
      ]
    },
    {
      "cell_type": "code",
      "metadata": {
        "id": "muYbNR6IdEuW",
        "colab": {
          "base_uri": "https://localhost:8080/",
          "height": 237
        },
        "outputId": "e20e8414-2423-41e6-9722-00144c87d81c"
      },
      "source": [
        "from obspy.imaging.beachball import beachball\n",
        "\n",
        "mt = [0.91, -0.89, -0.02, 1.78, -1.55, 0.47]\n",
        "beachball(mt, size=200, linewidth=2, facecolor='b')\n",
        "plt.show()"
      ],
      "execution_count": 7,
      "outputs": [
        {
          "output_type": "display_data",
          "data": {
            "image/png": "[encoded data removed]",
            "text/plain": [
              "<Figure size 200x200 with 1 Axes>"
            ]
          },
          "metadata": {
            "tags": [],
            "needs_background": "light"
          }
        }
      ]
    },
    {
      "cell_type": "code",
      "metadata": {
        "id": "xLeAGBdcgrZ8",
        "colab": {
          "base_uri": "https://localhost:8080/",
          "height": 250
        },
        "outputId": "2882baa1-ddfc-4953-fa73-ed6248fc6c5f"
      },
      "source": [
        "from obspy.taup import TauPyModel\n",
        "model = TauPyModel(model='iasp91')\n",
        "arrivals = model.get_ray_paths(500, 140, phase_list=['Pdiff', 'SS'])\n",
        "arrivals.plot_rays(plot_type='spherical', phase_list=['Pdiff', 'SS'],\n",
        "                   legend=True)\n",
        "plt.show()"
      ],
      "execution_count": 8,
      "outputs": [
        {
          "output_type": "display_data",
          "data": {
            "image/png": "[encoded data removed]",
            "text/plain": [
              "<Figure size 432x288 with 1 Axes>"
            ]
          },
          "metadata": {
            "tags": [],
            "needs_background": "light"
          }
        }
      ]
    },
    {
      "cell_type": "markdown",
      "metadata": {
        "id": "qZDLgcFiF0nk"
      },
      "source": [
        "# Activity 1: Functions in Python\n",
        "\n",
        "Reference: [Defining your own Python functions](https://realpython.com/defining-your-own-python-function/)"
      ]
    },
    {
      "cell_type": "markdown",
      "metadata": {
        "id": "UKHhjubANKmt"
      },
      "source": [
        "## Hello World\n",
        "\n",
        "Computer Science 101, tends to start with writing a function that prints the greeting ``Hello, world!\"\n",
        "\n",
        "The `hello()` function is defined below. The first line defines the function and the indented lines below are executed when we call the `hello()` function. **Run the code below to define the `hello()` function:**"
      ]
    },
    {
      "cell_type": "code",
      "metadata": {
        "id": "4E5vGmjUNPCo"
      },
      "source": [
        "def hello():\n",
        "  print(\"Hello, world!\") "
      ],
      "execution_count": 9,
      "outputs": []
    },
    {
      "cell_type": "markdown",
      "metadata": {
        "id": "CnItOXnBOdpQ"
      },
      "source": [
        "**Run the following code to call the `hello()` function.** This will print the greeting, \"Hello, world!\":"
      ]
    },
    {
      "cell_type": "code",
      "metadata": {
        "id": "ASc4gJd8NfMT"
      },
      "source": [
        "hello()"
      ],
      "execution_count": null,
      "outputs": []
    },
    {
      "cell_type": "markdown",
      "metadata": {
        "id": "E-rM_Jm_PKGB"
      },
      "source": [
        "We can also write Python functions that take inputs (called *arguments*). These arguments are stored in variables (called *parameters*) that are listed inside of the parentheses after the function name. A function can take multiple arguments separated by commas. The arguments are available to the computations performed inside of the function.  You can read more about *functions* and *arguments* [here](https://www.w3schools.com/python/python_functions.asp).\n",
        "\n",
        "**Run the code below to define a new function called `world_hello()`.** This function has one parameter called `language`. "
      ]
    },
    {
      "cell_type": "code",
      "metadata": {
        "id": "22n6qft3PIYk"
      },
      "source": [
        "def world_hello(language):\n",
        "  hello_dict = {\"Chinese\":\"你好世界\",\n",
        "\t\t\"Dutch\":\"Hallo wereld\",\n",
        "\t\t\"English\":\"Hello, world!\",\n",
        "\t\t\"French\":\"Bonjour monde\",\n",
        "\t\t\"Greek\":\"γειά σου κόσμος\",\n",
        "\t\t\"Japanese\":\"こんにちは世界\",\n",
        "\t\t\"Korean\":\"여보세요 세계\",\n",
        "\t\t\"Portuguese\":\"Olá mundo\",\n",
        "\t\t\"Russian\":\"Здравствуй, мир\",\n",
        "\t\t\"Spanish\":\"Hola mundo\"}\n",
        "  if language in hello_dict:  \n",
        "    print(hello_dict[language]) \n",
        "  else:\n",
        "    print('Invalid input. \\n   Try again with languages: Chinese, Dutch, English, French, Greek, Japanese, Korean, Portuguese, Russian, or Spanish.')  "
      ],
      "execution_count": null,
      "outputs": []
    },
    {
      "cell_type": "markdown",
      "metadata": {
        "id": "ei3FeoBVQc3h"
      },
      "source": [
        "This function contains a look-up table called `hello_dict` (stored in a data structure called a *dictionary*). The function finds the user-specified `language` in the look-up table (`hello_dict[language]`) and prints the appropriate greeting.\n",
        "\n",
        "The function also contains an `if-else` statement which checks whether the value for `language` provided by the user can be found inside the look-up table. If not, the function prints an instruction to the user instead of a greeting. You can read more about `if-else` statements [here](https://www.w3schools.com/python/python_conditions.asp).\n",
        "\n",
        "**Run the following code to see `world_hello()` in action.** Feel free to play around with various inputs."
      ]
    },
    {
      "cell_type": "code",
      "metadata": {
        "id": "7vNVb-neSNwL"
      },
      "source": [
        "world_hello(\"Chinese\")"
      ],
      "execution_count": null,
      "outputs": []
    },
    {
      "cell_type": "code",
      "metadata": {
        "id": "XODK1qXwSWAO"
      },
      "source": [
        "world_hello('Greek')\n",
        "world_hello('French')\n",
        "world_hello('French')\n",
        "world_hello('French')\n",
        "world_hello('Russian')\n",
        "world_hello('Korean')\n",
        "world_hello('English')"
      ],
      "execution_count": null,
      "outputs": []
    },
    {
      "cell_type": "code",
      "metadata": {
        "id": "eyiD5cQkScKD"
      },
      "source": [
        "world_hello(\"Czech\")"
      ],
      "execution_count": null,
      "outputs": []
    },
    {
      "cell_type": "code",
      "metadata": {
        "id": "KJlqHnvfSf4T"
      },
      "source": [
        "my_language = 'Japanese'\n",
        "world_hello(my_language)"
      ],
      "execution_count": null,
      "outputs": []
    },
    {
      "cell_type": "markdown",
      "metadata": {
        "id": "v0s00GW0W6P7"
      },
      "source": [
        "## Functions with multiple inputs"
      ]
    },
    {
      "cell_type": "markdown",
      "metadata": {
        "id": "6LiNQlLqY21e"
      },
      "source": [
        "Functions can take multiple arguments, separated by commas. Arguments can also be assigned default values. \n",
        "\n",
        "Below is a function that uses default values to create a single function that can add, multiply or add and multiply. \n",
        "\n",
        "**Run the code to define the `add_multiply()` function and to see it in action:**"
      ]
    },
    {
      "cell_type": "code",
      "metadata": {
        "id": "AYfHfLE_XJDU"
      },
      "source": [
        "def add_multiply(a, b=0, c=1):\n",
        "  x = (a+b)*c\n",
        "  print(x)"
      ],
      "execution_count": null,
      "outputs": []
    },
    {
      "cell_type": "code",
      "metadata": {
        "id": "3qedjESNX268"
      },
      "source": [
        "add_multiply(3,4,-2)\n",
        "add_multiply(3)\n",
        "add_multiply(3,4)\n",
        "add_multiply(a=3, b=4)"
      ],
      "execution_count": null,
      "outputs": []
    },
    {
      "cell_type": "markdown",
      "metadata": {
        "id": "KmgDnD5Pc6-6"
      },
      "source": [
        "Python expects that when we call a function, the arguments appear in the same order as they appear in the function definition (for `add_multiply()`: `a`, followed by `b`, followed by `c`). If we pass the arguments to the function in the correct order, then we do not need to include the argument name when we call the function. In the code above `add_multiply(3,4)` and `add_multiply(a=3, b=4)` are equivalent because the function expects the first argument will be `a` and the second will be `b` (and in both cases `c=0` is used by default). \n",
        "\n",
        "If the arguments are passed to the function in an order that differs from the ordering in the function definition, then you must tell the function the names of the arguments. **Run the code below to see an exaxmple:**"
      ]
    },
    {
      "cell_type": "code",
      "metadata": {
        "id": "D6LIrAQbZYKJ"
      },
      "source": [
        "add_multiply(3, c=-2)\n",
        "add_multiply(c=-2, a=3, b=4)"
      ],
      "execution_count": null,
      "outputs": []
    },
    {
      "cell_type": "markdown",
      "metadata": {
        "id": "xwgFJTNzeVZh"
      },
      "source": [
        "## Exercise 1A\n",
        "\n",
        "Because `a` does not have a default value, we can not call `add_multiply()` without specifying the value of `a`. \n",
        "\n",
        "**Run the code below.** *You should receive an error message.* \n",
        "\n",
        "**Modify this code** so that running the code no longer results in an error. Specifically, set the value for argument `a` to `5` (the output of `add_multiply()` should be `35` if `b=2` and `c=5` are unchanged)."
      ]
    },
    {
      "cell_type": "code",
      "metadata": {
        "id": "-Q5Uwd2YeTDK"
      },
      "source": [
        "add_multiply(a=8,b=2, c=5)"
      ],
      "execution_count": null,
      "outputs": []
    },
    {
      "cell_type": "markdown",
      "metadata": {
        "id": "qT-kX2NEiR36"
      },
      "source": [
        "## Returning values\n",
        "\n",
        "Python functions that perform calculations can return one or more values that can be used by your program outside of the function. "
      ]
    },
    {
      "cell_type": "code",
      "metadata": {
        "id": "WKyPiPnciikj"
      },
      "source": [
        "def square_sum(a, b):\n",
        "  x = (a+b)**2\n",
        "  return x"
      ],
      "execution_count": null,
      "outputs": []
    },
    {
      "cell_type": "code",
      "metadata": {
        "id": "qZWgQvQgjFqL"
      },
      "source": [
        "a = 7\n",
        "b = 5\n",
        "c = 11\n",
        "\n",
        "x1 = square_sum(a, b)\n",
        "x2 = square_sum(a, c)\n",
        "\n",
        "print(x1)\n",
        "print(x2) \n",
        "\n",
        "x3 = square_sum(x1, x2)\n",
        "\n",
        "print(x3)"
      ],
      "execution_count": null,
      "outputs": []
    },
    {
      "cell_type": "markdown",
      "metadata": {
        "id": "Ng_ZWwAGnDLT"
      },
      "source": [
        "## `for` loops\n",
        "\n",
        "`for` loops in Python allow you to iterate over a sequence. Read more about `for` loops [here](https://www.w3schools.com/python/python_for_loops.asp).\n",
        "\n",
        "The function `sum_n()` below computes the sum of the integer values from `0` to `n`, inclusive. The function uses a `for` loop that iterates through each value, `k`, between `0` and `n` and adds it to the `sum`. Our function `sum_n()` uses a function called `range()` which returns a sequence of numbers (`range(x)` returns a sequence from `0` to `x-1`)."
      ]
    },
    {
      "cell_type": "code",
      "metadata": {
        "id": "cuCGMiAli_zd"
      },
      "source": [
        "def sum_n(n):\n",
        "  sum = 0\n",
        "  for k in range(0,n+1):\n",
        "    sum += k\n",
        "  return sum\n",
        "\n",
        "x =  sum_n(10) \n",
        "print(x)"
      ],
      "execution_count": null,
      "outputs": []
    },
    {
      "cell_type": "markdown",
      "metadata": {
        "id": "uywnK0iWqD74"
      },
      "source": [
        "## Exercise 1B\n",
        "\n",
        "**Write a function, `my_factorial()`, that computes the product of values the integer values from `1` and `n`, inclusive.** Use a `for` loop and the `range()` function, noting that `range(a, b)` will return a sequence from `a` to `b-1`."
      ]
    },
    {
      "cell_type": "code",
      "metadata": {
        "id": "tS2nRmx4qlYQ"
      },
      "source": [
        "def my_factorial(n):\n",
        "  product = 1\n",
        "  for k in range(1,n+1):\n",
        "    product=product*k\n",
        "\n",
        "  return product\n",
        "\n",
        "print(my_factorial(5))\n",
        "print(my_factorial(10)) "
      ],
      "execution_count": null,
      "outputs": []
    },
    {
      "cell_type": "markdown",
      "metadata": {
        "id": "fX_uzGDjrk8L"
      },
      "source": [
        "You can check your answers against the `math.factorial()` function:"
      ]
    },
    {
      "cell_type": "code",
      "metadata": {
        "id": "ckctXHQIrqlO"
      },
      "source": [
        "import math\n",
        "\n",
        "print(math.factorial(5))\n",
        "print(math.factorial(10))"
      ],
      "execution_count": null,
      "outputs": []
    },
    {
      "cell_type": "markdown",
      "metadata": {
        "id": "nK5rYAjAFPZS"
      },
      "source": [
        "# Activity 2: Pandas and Matplotlib"
      ]
    },
    {
      "cell_type": "markdown",
      "metadata": {
        "id": "t16PiXl8aqjW"
      },
      "source": [
        "## Pandas: Data Analysis in Python\n",
        "\n",
        "In this section, we will use a package called [Pandas](https://pandas.pydata.org/docs/) to read in our data. The `pandas` package also contains tools for data manipulation and basic data analysis. \n",
        "\n",
        "We will not explore all of these tools in this assignment. You can find more information in the following references and tutorials:\n",
        "\n",
        "\n",
        "*   [10 minutes to pandas](https://pandas.pydata.org/pandas-docs/stable/user_guide/10min.html)\n",
        "*   [Pandas tutorial: DataFrames in Python](https://www.datacamp.com/community/tutorials/pandas-tutorial-dataframe-python)\n",
        "*   Collection of additional `pandas` [tutorials](https://pandas.pydata.org/pandas-docs/stable/getting_started/tutorials.html). \n",
        "\n",
        "**Run the following code cell to import the `pandas` package.** We will use `pd` to call methods from `pandas`."
      ]
    },
    {
      "cell_type": "code",
      "metadata": {
        "id": "zPzBoIdzbC51"
      },
      "source": [
        "import pandas as pd"
      ],
      "execution_count": null,
      "outputs": []
    },
    {
      "cell_type": "markdown",
      "metadata": {
        "id": "zHZNvyJFl6mL"
      },
      "source": [
        "## *Did You Feel it?* Citizen reports of recent M4.2 Earthquake "
      ]
    },
    {
      "cell_type": "markdown",
      "metadata": {
        "id": "teaXlPaSkayd"
      },
      "source": [
        "Earlier this month a minor, but widely felt, magnitude 4.2 earthquake occurred south of the SF Bay Area in California: near Aromas, CA at 8:01pm local time (Pacific Time Zone) on January 16th, 2021 [[Los Angeles Times article](https://www.latimes.com/california/story/2021-01-16/earthquake-near-prunedale-california)] [[USGS event page](https://earthquake.usgs.gov/earthquakes/eventpage/nc73512355/executive)]. Over 19,000 people reported feeling the event on the US Geological Survey's [*Did You Feel It?* (DYFI)](https://earthquake.usgs.gov/data/dyfi/) page. \n",
        "\n",
        "**In this section, you will load aggregated DYFI data from this earthquake into Python using the `pandas` package.** In the next section you will use the `matplotlib` package to plot this data."
      ]
    },
    {
      "cell_type": "markdown",
      "metadata": {
        "id": "wOwN-gi9caMQ"
      },
      "source": [
        "### Loadings a `.csv` file with `pandas`\n",
        "\n",
        "We will use `pandas` to load a data table into Python. This sections assumes you have mounted your Google Drive (in Activity 0) and created a variable called `MY_PATH` that points to the folder in your Google Drive where your data files are stored: \n",
        "\n",
        "```\n",
        "from google.colab import drive\n",
        "drive.mount('/content/drive', force_remount=True)\n",
        "```\n",
        "\n",
        "```\n",
        "MY_PATH = '/content/drive/MyDrive/EEPS1960_ML/data/'\n",
        "```\n",
        "\n"
      ]
    },
    {
      "cell_type": "code",
      "metadata": {
        "id": "oBQz7aJNjjot"
      },
      "source": [
        "from google.colab import drive\n",
        "drive.mount('/content/drive')"
      ],
      "execution_count": null,
      "outputs": []
    },
    {
      "cell_type": "markdown",
      "metadata": {
        "id": "L8ahf9qmjOnu"
      },
      "source": [
        "In this section we will be working with a file called `cdi_zip_nc73512355.csv`. \n",
        "\n",
        "**Download this file from [EEPS 1960D Data](https://drive.google.com/drive/folders/1XBYCHa55Nesgqw6_vulSAcWaREm3lk7M?usp=sharing) and upload it to your Google Drive and place it in the folder indicated by variable `MY_PATH`.** You can also right click on it in Google Drive and \"add Shortcut to Drive,\" selecting the proper folder. *If necessary, (re)run the lines of code from Activity 0 (and/or update `MY_PATH`) before proceeding.*  "
      ]
    },
    {
      "cell_type": "markdown",
      "metadata": {
        "id": "ieG356mdsYKN"
      },
      "source": [
        "**Run the following code to load the file `cdi_zip_nc73512355.csv` into a Pandas DataFrame:**"
      ]
    },
    {
      "cell_type": "code",
      "metadata": {
        "id": "HhMbEepDkVoA"
      },
      "source": [
        "MY_PATH = '/content/drive/MyDrive/EEPS1960_ML/data/'\n",
        "\n",
        "df = pd.read_csv(MY_PATH+'cdi_zip_nc73512355.csv')"
      ],
      "execution_count": 16,
      "outputs": []
    },
    {
      "cell_type": "markdown",
      "metadata": {
        "id": "-DFqkUl7lEU7"
      },
      "source": [
        "### Pandas DataFrames\n",
        "\n",
        "A Pandas `DataFrame` is a data structure for storing data in a table with labeled columns, each of which may contain different values of different types. `DataFrames` store a two-dimensional array of data. Pandas also has another data structure called a `Series` for working with one-dimenional data arrays. \n",
        "\n",
        "**Use the `head()` function to see the first few rows of the DataFrame.**"
      ]
    },
    {
      "cell_type": "code",
      "metadata": {
        "id": "rsgsCEpok2kZ"
      },
      "source": [
        "df.head()\n"
      ],
      "execution_count": null,
      "outputs": []
    },
    {
      "cell_type": "markdown",
      "metadata": {
        "id": "pi01-Ed6o7kM"
      },
      "source": [
        "The left most column is the row index. The columns stored in the DataFrame are:  \n",
        "\n",
        "*   `Zip Code`: zip code of reports (additional location information in: `Latitude`, `Longitude`, `City`, `State`)\n",
        "*   `CDI`: Community Decimal Intensity, the maximum reported intensity for the event ([magnitude vs. intensity](https://www.usgs.gov/natural-hazards/earthquake-hazards/science/earthquake-magnitude-energy-release-and-shaking-intensity?qt-science_center_objects=0#qt-science_center_objects))\n",
        "*   `No. of responses`: number of DYFI reports from the zip code \n",
        "*   `Hypocentral distance`: distance (km) between event hypocenter and location of report \n",
        "*   `Standard deviation`: standard deviation of intensities\n",
        "\n",
        "The list of column labels can be accessed using `df.columns`. "
      ]
    },
    {
      "cell_type": "code",
      "metadata": {
        "id": "7NeSWTITtirw"
      },
      "source": [
        "df.columns"
      ],
      "execution_count": null,
      "outputs": []
    },
    {
      "cell_type": "markdown",
      "metadata": {
        "id": "s7Fvav3ArqjF"
      },
      "source": [
        "**Use the `describe()` function to compute summary statistics for each (numerical) column:**"
      ]
    },
    {
      "cell_type": "code",
      "metadata": {
        "id": "2zPEGddik4vb"
      },
      "source": [
        "df.describe()"
      ],
      "execution_count": null,
      "outputs": []
    },
    {
      "cell_type": "markdown",
      "metadata": {
        "id": "y3uqeD3JvUoi"
      },
      "source": [
        "## Exercise 2A"
      ]
    },
    {
      "cell_type": "markdown",
      "metadata": {
        "id": "HKUOA9Zr0Vb0"
      },
      "source": [
        "\n",
        "\n",
        "**Load a second csv file, `intensity_nc73512355.csv`**.\n",
        "\n",
        "This file can also be obtained at [EEPS 1960D Data](https://drive.google.com/drive/folders/1XBYCHa55Nesgqw6_vulSAcWaREm3lk7M?usp=sharing) and should be uploaded to your Google Drive.\n",
        "\n",
        "This data set includes a new column `MMI` in place of `CDI`. MMI ([Modified Mercalli Intensity](https://www.usgs.gov/natural-hazards/earthquake-hazards/science/modified-mercalli-intensity-scale?qt-science_center_objects=0#qt-science_center_objects)) is the maximum estimated intensity assigned by the USGS. MMI is designated using roman numerals. \n",
        "\n",
        "**Use `read_csv` to read in this new file, but only load the data from columns `Zip Code` and `MMI`.** You can read about how to select specific columns to load with the `usecols` argument [here](https://www.geeksforgeeks.org/reading-specific-columns-of-a-csv-file-using-pandas/) or [here](https://www.kite.com/python/answers/how-to-read-specific-column-from-csv-file-in-python). \n"
      ]
    },
    {
      "cell_type": "code",
      "metadata": {
        "id": "echkRkKBw7NF",
        "colab": {
          "base_uri": "https://localhost:8080/",
          "height": 204
        },
        "outputId": "c1a581f5-521c-47b3-b798-89ffeefe60b7"
      },
      "source": [
        "selected_columns = ['Zip Code', 'MMI']\n",
        "\n",
        "df2 = pd.read_csv(MY_PATH+\"intensity_nc73512355.csv\", usecols = selected_columns) \n",
        "df2.head()"
      ],
      "execution_count": 18,
      "outputs": [
        {
          "output_type": "execute_result",
          "data": {
            "text/html": [
              "<div>\n",
              "<style scoped>\n",
              "    .dataframe tbody tr th:only-of-type {\n",
              "        vertical-align: middle;\n",
              "    }\n",
              "\n",
              "    .dataframe tbody tr th {\n",
              "        vertical-align: top;\n",
              "    }\n",
              "\n",
              "    .dataframe thead th {\n",
              "        text-align: right;\n",
              "    }\n",
              "</style>\n",
              "<table border=\"1\" class=\"dataframe\">\n",
              "  <thead>\n",
              "    <tr style=\"text-align: right;\">\n",
              "      <th></th>\n",
              "      <th>Zip Code</th>\n",
              "      <th>MMI</th>\n",
              "    </tr>\n",
              "  </thead>\n",
              "  <tbody>\n",
              "    <tr>\n",
              "      <th>0</th>\n",
              "      <td>95004</td>\n",
              "      <td>IV</td>\n",
              "    </tr>\n",
              "    <tr>\n",
              "      <th>1</th>\n",
              "      <td>95045</td>\n",
              "      <td>IV</td>\n",
              "    </tr>\n",
              "    <tr>\n",
              "      <th>2</th>\n",
              "      <td>93907</td>\n",
              "      <td>IV</td>\n",
              "    </tr>\n",
              "    <tr>\n",
              "      <th>3</th>\n",
              "      <td>93906</td>\n",
              "      <td>II</td>\n",
              "    </tr>\n",
              "    <tr>\n",
              "      <th>4</th>\n",
              "      <td>95039</td>\n",
              "      <td>IV</td>\n",
              "    </tr>\n",
              "  </tbody>\n",
              "</table>\n",
              "</div>"
            ],
            "text/plain": [
              "   Zip Code MMI\n",
              "0     95004  IV\n",
              "1     95045  IV\n",
              "2     93907  IV\n",
              "3     93906  II\n",
              "4     95039  IV"
            ]
          },
          "metadata": {
            "tags": []
          },
          "execution_count": 18
        }
      ]
    },
    {
      "cell_type": "markdown",
      "metadata": {
        "id": "g5rVA0_0_3hu"
      },
      "source": [
        "The output of `df2.head()` should contain 3 columns: the index (left column), `Zip Code` and `MMI`."
      ]
    },
    {
      "cell_type": "markdown",
      "metadata": {
        "id": "Au4uU6GJJB6g"
      },
      "source": [
        "> **TIP:** You can take advantage of easily viewing code documentation right from a code cell in Colab. Simply hover your mouse over the function as you are typing it, e.g. `pd.read_csv(`. If you prefer a keyboard shortcut, select the gear icon on the top right of any cell to enter settings > Editor > *un*check \"Automatically trigger code completions\", and now any time you hit tab within an open function parenthesis, a context box will appear with the function docstring and argument list/descriptions. To open the documentation in a persistent pane at the side of your screen, add a ? before or after the object or method name and execute the cell using Shift+Enter, e.g. `pd.read_csv?`."
      ]
    },
    {
      "cell_type": "markdown",
      "metadata": {
        "id": "aUF_QbBq2TtT"
      },
      "source": [
        "### Merging datasets\n",
        "\n",
        "**Now run the following code to combine the two data sets into a single DataFrame `df3` using the `merge` function.** "
      ]
    },
    {
      "cell_type": "code",
      "metadata": {
        "id": "T0WdKizNxUcb",
        "colab": {
          "base_uri": "https://localhost:8080/",
          "height": 204
        },
        "outputId": "c3886254-af17-4d54-caa0-7d6d845aadfe"
      },
      "source": [
        "df3 = pd.merge(df, df2, left_on='Zip Code', right_on='Zip Code')\n",
        "df3.head()"
      ],
      "execution_count": 19,
      "outputs": [
        {
          "output_type": "execute_result",
          "data": {
            "text/html": [
              "<div>\n",
              "<style scoped>\n",
              "    .dataframe tbody tr th:only-of-type {\n",
              "        vertical-align: middle;\n",
              "    }\n",
              "\n",
              "    .dataframe tbody tr th {\n",
              "        vertical-align: top;\n",
              "    }\n",
              "\n",
              "    .dataframe thead th {\n",
              "        text-align: right;\n",
              "    }\n",
              "</style>\n",
              "<table border=\"1\" class=\"dataframe\">\n",
              "  <thead>\n",
              "    <tr style=\"text-align: right;\">\n",
              "      <th></th>\n",
              "      <th>Zip Code</th>\n",
              "      <th>CDI</th>\n",
              "      <th>No. of responses</th>\n",
              "      <th>Hypocentral distance</th>\n",
              "      <th>Latitude</th>\n",
              "      <th>Longitude</th>\n",
              "      <th>Standard deviation</th>\n",
              "      <th>City</th>\n",
              "      <th>State</th>\n",
              "      <th>MMI</th>\n",
              "    </tr>\n",
              "  </thead>\n",
              "  <tbody>\n",
              "    <tr>\n",
              "      <th>0</th>\n",
              "      <td>84050</td>\n",
              "      <td>1.0</td>\n",
              "      <td>1</td>\n",
              "      <td>977</td>\n",
              "      <td>41.0220</td>\n",
              "      <td>-111.6732</td>\n",
              "      <td>0.33</td>\n",
              "      <td>Morgan</td>\n",
              "      <td>UT</td>\n",
              "      <td>I</td>\n",
              "    </tr>\n",
              "    <tr>\n",
              "      <th>1</th>\n",
              "      <td>85351</td>\n",
              "      <td>1.0</td>\n",
              "      <td>1</td>\n",
              "      <td>922</td>\n",
              "      <td>33.6049</td>\n",
              "      <td>-112.2836</td>\n",
              "      <td>0.33</td>\n",
              "      <td>Sun City</td>\n",
              "      <td>AZ</td>\n",
              "      <td>I</td>\n",
              "    </tr>\n",
              "    <tr>\n",
              "      <th>2</th>\n",
              "      <td>89413</td>\n",
              "      <td>2.0</td>\n",
              "      <td>1</td>\n",
              "      <td>283</td>\n",
              "      <td>39.0325</td>\n",
              "      <td>-119.9036</td>\n",
              "      <td>0.33</td>\n",
              "      <td>Glenbrook</td>\n",
              "      <td>NV</td>\n",
              "      <td>II</td>\n",
              "    </tr>\n",
              "    <tr>\n",
              "      <th>3</th>\n",
              "      <td>89426</td>\n",
              "      <td>2.7</td>\n",
              "      <td>1</td>\n",
              "      <td>646</td>\n",
              "      <td>41.6725</td>\n",
              "      <td>-117.3745</td>\n",
              "      <td>0.33</td>\n",
              "      <td>Paradise Valley</td>\n",
              "      <td>NV</td>\n",
              "      <td>III</td>\n",
              "    </tr>\n",
              "    <tr>\n",
              "      <th>4</th>\n",
              "      <td>90005</td>\n",
              "      <td>1.0</td>\n",
              "      <td>2</td>\n",
              "      <td>432</td>\n",
              "      <td>34.0590</td>\n",
              "      <td>-118.3088</td>\n",
              "      <td>0.32</td>\n",
              "      <td>Los Angeles</td>\n",
              "      <td>CA</td>\n",
              "      <td>I</td>\n",
              "    </tr>\n",
              "  </tbody>\n",
              "</table>\n",
              "</div>"
            ],
            "text/plain": [
              "   Zip Code  CDI  No. of responses  ...             City  State  MMI\n",
              "0     84050  1.0                 1  ...           Morgan     UT    I\n",
              "1     85351  1.0                 1  ...         Sun City     AZ    I\n",
              "2     89413  2.0                 1  ...        Glenbrook     NV   II\n",
              "3     89426  2.7                 1  ...  Paradise Valley     NV  III\n",
              "4     90005  1.0                 2  ...      Los Angeles     CA    I\n",
              "\n",
              "[5 rows x 10 columns]"
            ]
          },
          "metadata": {
            "tags": []
          },
          "execution_count": 19
        }
      ]
    },
    {
      "cell_type": "markdown",
      "metadata": {
        "id": "TXwS9Ibq57by"
      },
      "source": [
        "This new DataFrame should contain 271 rows and 10 columns:"
      ]
    },
    {
      "cell_type": "code",
      "metadata": {
        "id": "sB33J1uB3FiD"
      },
      "source": [
        "print(df.shape)\n",
        "print(df2.shape)\n",
        "print(df3.shape)"
      ],
      "execution_count": null,
      "outputs": []
    },
    {
      "cell_type": "markdown",
      "metadata": {
        "id": "mFNRRPqEwNoZ"
      },
      "source": [
        "You can find more information about combining multiple data sets into a single DataFrame [here](https://realpython.com/pandas-merge-join-and-concat/) or [here](https://pandas.pydata.org/pandas-docs/stable/user_guide/merging.html)."
      ]
    },
    {
      "cell_type": "markdown",
      "metadata": {
        "id": "Q7IZZHAn9OKl"
      },
      "source": [
        "### Indexing and sorting\n",
        "\n",
        "Pandas also includes tools for indexing and sorting the data contained in a DataFrame. \n",
        "\n",
        "**Explore the examples below.** The first returns data from the state of Nevada. The second finds data from zip codes with a CDI value of 4.0 or greater. The third sorts the DataFrame by number of responses per zip code, from most to fewest responses. "
      ]
    },
    {
      "cell_type": "code",
      "metadata": {
        "id": "oJXQSC0D6pIo",
        "colab": {
          "base_uri": "https://localhost:8080/",
          "height": 164
        },
        "outputId": "f525f766-e069-488c-8600-136c83835b52"
      },
      "source": [
        "df3[df3['State']=='NV']"
      ],
      "execution_count": 12,
      "outputs": [
        {
          "output_type": "error",
          "ename": "NameError",
          "evalue": "ignored",
          "traceback": [
            "\u001b[0;31m---------------------------------------------------------------------------\u001b[0m",
            "\u001b[0;31mNameError\u001b[0m                                 Traceback (most recent call last)",
            "\u001b[0;32m<ipython-input-12-1a2dd3f0215b>\u001b[0m in \u001b[0;36m<module>\u001b[0;34m()\u001b[0m\n\u001b[0;32m----> 1\u001b[0;31m \u001b[0mdf3\u001b[0m\u001b[0;34m[\u001b[0m\u001b[0mdf3\u001b[0m\u001b[0;34m[\u001b[0m\u001b[0;34m'State'\u001b[0m\u001b[0;34m]\u001b[0m\u001b[0;34m==\u001b[0m\u001b[0;34m'NV'\u001b[0m\u001b[0;34m]\u001b[0m\u001b[0;34m\u001b[0m\u001b[0;34m\u001b[0m\u001b[0m\n\u001b[0m",
            "\u001b[0;31mNameError\u001b[0m: name 'df3' is not defined"
          ]
        }
      ]
    },
    {
      "cell_type": "code",
      "metadata": {
        "id": "dXUYNUnZ7_bb",
        "colab": {
          "base_uri": "https://localhost:8080/",
          "height": 181
        },
        "outputId": "6aca33c6-d548-487b-ce1f-a4e5e22b47e1"
      },
      "source": [
        "idx = df3.index[df3['CDI']>=4.0]\n",
        "df3.loc[idx]"
      ],
      "execution_count": 13,
      "outputs": [
        {
          "output_type": "error",
          "ename": "NameError",
          "evalue": "ignored",
          "traceback": [
            "\u001b[0;31m---------------------------------------------------------------------------\u001b[0m",
            "\u001b[0;31mNameError\u001b[0m                                 Traceback (most recent call last)",
            "\u001b[0;32m<ipython-input-13-fd4bdc52328b>\u001b[0m in \u001b[0;36m<module>\u001b[0;34m()\u001b[0m\n\u001b[0;32m----> 1\u001b[0;31m \u001b[0midx\u001b[0m \u001b[0;34m=\u001b[0m \u001b[0mdf3\u001b[0m\u001b[0;34m.\u001b[0m\u001b[0mindex\u001b[0m\u001b[0;34m[\u001b[0m\u001b[0mdf3\u001b[0m\u001b[0;34m[\u001b[0m\u001b[0;34m'CDI'\u001b[0m\u001b[0;34m]\u001b[0m\u001b[0;34m>=\u001b[0m\u001b[0;36m4.0\u001b[0m\u001b[0;34m]\u001b[0m\u001b[0;34m\u001b[0m\u001b[0;34m\u001b[0m\u001b[0m\n\u001b[0m\u001b[1;32m      2\u001b[0m \u001b[0mdf3\u001b[0m\u001b[0;34m.\u001b[0m\u001b[0mloc\u001b[0m\u001b[0;34m[\u001b[0m\u001b[0midx\u001b[0m\u001b[0;34m]\u001b[0m\u001b[0;34m\u001b[0m\u001b[0;34m\u001b[0m\u001b[0m\n",
            "\u001b[0;31mNameError\u001b[0m: name 'df3' is not defined"
          ]
        }
      ]
    },
    {
      "cell_type": "code",
      "metadata": {
        "id": "l67s5dS48oZr"
      },
      "source": [
        "df3.sort_values(by=['No. of responses'], ascending=False)"
      ],
      "execution_count": null,
      "outputs": []
    },
    {
      "cell_type": "markdown",
      "metadata": {
        "id": "8xt0cFWJmuZV"
      },
      "source": [
        "## Matplotlib: Plotting and Visualization in Python"
      ]
    },
    {
      "cell_type": "markdown",
      "metadata": {
        "id": "gbLuqmOJt54M"
      },
      "source": [
        "[Matplotlib](https://matplotlib.org) is a popular Python library for making figures and visualizations. \n",
        "\n",
        "You can find examples of the range of different kinds of visualization tools available in `matplotlib` in the [Matplotlib Gallery](https://matplotlib.org/gallery.html#). *These examples may be useful to you throughout the course.*  \n",
        "\n",
        "Other visualization libraries include [seaborn](https://seaborn.pydata.org) [[examples](https://seaborn.pydata.org/examples/index.html)]  or [Plotly](https://plotly.com/python/getting-started/) [[examples](https://plotly.com/python/)], which allows for interactive plots in Colab. Students may use any visualization library they choose, but for this assignment we will use `matplotlib.pyplot` which has syntax very similar to Matlab's plotting tools."
      ]
    },
    {
      "cell_type": "markdown",
      "metadata": {
        "id": "bW5a0wsxlh3y"
      },
      "source": [
        "Recall that in Activity 0, we loaded the `pyplot` module from `matplotlib`:\n",
        "```\n",
        "from matplotlib import pyplot as plt\n",
        "```\n",
        "**If necessary, rerun this code to load `matplotlib.pyplot`.** We imported this module as `plt`, which will allow use to call a function by using `plt.function()` as shorthand for `matplotlib.pyplot.function()`. \n"
      ]
    },
    {
      "cell_type": "markdown",
      "metadata": {
        "id": "q8mfnUD5ndtD"
      },
      "source": [
        "### Plotting DYFI data\n",
        "\n",
        "We can plot the data from our DataFrame in the previous section. \n",
        "\n",
        "First, we'll use the [`scatter()`](https://matplotlib.org/3.3.3/api/_as_gen/matplotlib.pyplot.scatter.html) function to create a scatterplot of the CDI (citizen-reported shaking intensity) vs. the hypocentral distance (distance of reporter from the event hypocenter location). \n",
        "\n",
        "**Run the following code:**"
      ]
    },
    {
      "cell_type": "code",
      "metadata": {
        "id": "DCqtLV2zm-9J"
      },
      "source": [
        "from matplotlib import pyplot as plt\n",
        "x = df3['Hypocentral distance']\n",
        "y = df3['CDI']"
      ],
      "execution_count": 23,
      "outputs": []
    },
    {
      "cell_type": "markdown",
      "metadata": {
        "id": "aaQ50w7mAlPg"
      },
      "source": [
        "#### Plot A"
      ]
    },
    {
      "cell_type": "code",
      "metadata": {
        "id": "HCa7nH2GnNmk"
      },
      "source": [
        "plt.scatter(x,y)"
      ],
      "execution_count": null,
      "outputs": []
    },
    {
      "cell_type": "markdown",
      "metadata": {
        "id": "isYqyMRDoO3n"
      },
      "source": [
        "#### Plot B\n",
        "\n",
        "We can add lines of code to add or modify elements of the plot or figure.\n",
        "\n",
        "**Run the following code to create an improved version of the plot above.** Each line is commented to explain the which element of the figure is being added or modified. *Note that in Python the `#` symbol is used for in-line comments and ` ''' ` is used for block comments.*"
      ]
    },
    {
      "cell_type": "code",
      "metadata": {
        "id": "2wuL9-6ez-kJ",
        "colab": {
          "base_uri": "https://localhost:8080/",
          "height": 535
        },
        "outputId": "451f9a4d-1594-4a03-c725-39177f395bf9"
      },
      "source": [
        "plt.rcParams.update({'font.size': 18})         # increases the default font size for matplotlib figures\n",
        "\n",
        "plt.figure(figsize=(15, 8))                    # creates a new figure, the argument `figsize` \n",
        "                                               #   lets us control the size and dimensions of the figure\n",
        "plt.scatter(x, y, color='indigo', marker='s')  # changes color and shape of markers\n",
        "plt.xlabel('hypocentral distance (km)')        # labels x-axis\n",
        "plt.ylabel('Intensity (CDI)')                  # labels y-axis\n",
        "plt.title('DYFI data: distance vs. intensity')   # adds title to the plot\n",
        "plt.show()                                     # supresses output, e.g. <matplotlib.collections.PathCollection at ... >"
      ],
      "execution_count": 24,
      "outputs": [
        {
          "output_type": "display_data",
          "data": {
            "image/png": "[encoded data removed]",
            "text/plain": [
              "<Figure size 1080x576 with 1 Axes>"
            ]
          },
          "metadata": {
            "tags": [],
            "needs_background": "light"
          }
        }
      ]
    },
    {
      "cell_type": "markdown",
      "metadata": {
        "id": "SJ74aW3AraLl"
      },
      "source": [
        "#### Plot C\n",
        "\n",
        "We can also use the size of the markers and color to include additional information in this figure. \n",
        "\n",
        "First, we use the following function converts the roman numerals values for `MMI` into the corresponding integer value. There are stored in a variable `mmi`, which we will use below. **Run this code to convert MMI roman numerals to integers for plotting.** "
      ]
    },
    {
      "cell_type": "code",
      "metadata": {
        "id": "LAcVqMuuu46I"
      },
      "source": [
        "def numeral_to_int(x):\n",
        "  num_to_int = {'I':1, 'II':2, 'III':3, 'IV':4, 'V':5, 'VI':6, 'VII':7}\n",
        "  z = [num_to_int[i] for i in x]\n",
        "  return np.array(z)\n",
        "\n",
        "mmi = numeral_to_int(df3['MMI'])\n",
        "z = df3['No. of responses']"
      ],
      "execution_count": 21,
      "outputs": []
    },
    {
      "cell_type": "markdown",
      "metadata": {
        "id": "0zpKcyWM91rD"
      },
      "source": [
        "From the code above we have the following variables available\n",
        "\n",
        "```\n",
        "    x = df3['Hypocentral distance']\n",
        "    y = df3['CDI']\n",
        "    z = df3['No. of responses']\n",
        "    mmi = numeral_to_int(df3['MMI'])\n",
        "```\n",
        "\n",
        "In the plot below we plot Community reported intensity (CDI) vs. hypocentral distance, but we will use the marker size to show the number of responses and the color to show the Modified Mercalli Intensity (MMI).\n",
        "\n",
        "**Run the following code to see the updated figure.**"
      ]
    },
    {
      "cell_type": "code",
      "metadata": {
        "id": "KtXExLHV6W8l",
        "colab": {
          "base_uri": "https://localhost:8080/",
          "height": 535
        },
        "outputId": "e44b9161-7743-47d8-a573-7a8970eaa6a7"
      },
      "source": [
        "colors = plt.get_cmap('viridis', 4)   # create a colormap with 4 colors\n",
        "\n",
        "plt.figure(figsize=(15,8))                    # creates new figure, argument 'figsize' controls figure dimensions\n",
        "plt.scatter(x, y, s=(10*z), c=mmi, cmap=colors, edgecolors='black', alpha=0.66)   \n",
        "                                              # argument 's' allows us to make the marker size scale with number of responses \n",
        "                                              # argument 'c' sets color based on value of mmi\n",
        "                                              # 'cmap' sets the colormap\n",
        "                                              # 'edgecolors' adds outline around each marker\n",
        "                                              # 'alpha' controls the transparency of the markers \n",
        "plt.xlabel('hypocentral distance (km)')       # labels x-axis\n",
        "plt.ylabel('Intensity (CDI)')                 # labels y-axis\n",
        "plt.xlim([-10, 1010])                           # sets limits of x-axis\n",
        "plt.yticks([1, 2, 3, 4], ['1.0', '2.0', '3.0', '4.0'])  # sets locations, labels for ticks on y-axis\n",
        "plt.title('DYFI data: distance vs. intensity')  # adds title to the plot\n",
        "cbar = plt.colorbar(ticks=[1, 2, 3, 4], label='MMI')  # adds colorbar\n",
        "cbar.set_ticklabels(['I', 'II', 'III', 'IV'])         # labels colorbar ticks with roman numerals\n",
        "plt.show()                                    # supresses output, e.g. <matplotlib.collections.PathCollection at ... >"
      ],
      "execution_count": 25,
      "outputs": [
        {
          "output_type": "display_data",
          "data": {
            "image/png": "[encoded data removed]",
            "text/plain": [
              "<Figure size 1080x576 with 2 Axes>"
            ]
          },
          "metadata": {
            "tags": [],
            "needs_background": "light"
          }
        }
      ]
    },
    {
      "cell_type": "markdown",
      "metadata": {
        "id": "apawuANj2gv0"
      },
      "source": [
        "## Exercise 2B\n",
        "\n",
        "**Make your own plot of DYFI data.** You may wish to use the variables defined above\n",
        "```\n",
        "    x = df3['Hypocentral distance']\n",
        "    y = df3['CDI']\n",
        "    z = df3['No. of responses']\n",
        "    mmi = numeral_to_int(df3['MMI'])\n",
        "```\n",
        "You are also welcome use other variables that are available (e.g. `Latitude` and `Longitude`).\n",
        "\n",
        "***Your figure should be visually appealing*** (it should look like Plot B or C above, not like Plot A). When you make your figure, consider the following: \n",
        "*   Use the `bins` argument to the [`hist()`](https://matplotlib.org/3.3.3/api/_as_gen/matplotlib.pyplot.hist.html) function to increase the number of histogram bins, if applicable.\n",
        "*   Label the axes (and adjust the ticks, if necessary).\n",
        "*   Give the plot a title.\n",
        "*   Change the color of the bars (`color` argument) and added dark edges (`edgecolors` argument) to the bars. \n",
        "*    Suppress the output (e.g. `(array([ ...]), array([...]), <a list of 10 Patch objects>)` or `<matplotlib.collections.PathCollection at ... >`).\n",
        "*    Adjust the size and shape of the figure.\n",
        "*    Add a legend ([`legend()`](https://matplotlib.org/3.1.1/api/_as_gen/matplotlib.axes.Axes.legend.html#matplotlib.axes.Axes.legend)) or colorbar ( [`colorbar`](https://matplotlib.org/3.1.1/api/colorbar_api.html?highlight=colorbar#module-matplotlib.colorbar)) to your figure, if applicable.\n",
        "*    Use comments (`#`) to explain what each line of your code is doing.\n",
        "\n",
        "If you aren't sure what to plot in your figure, consider one of these examples as a starting point:"
      ]
    },
    {
      "cell_type": "code",
      "metadata": {
        "id": "kO9DWjBC1PT1",
        "colab": {
          "base_uri": "https://localhost:8080/",
          "height": 1000
        },
        "outputId": "8a47e7d1-26b3-4578-b226-8ff95a7fa6fe"
      },
      "source": [
        "\n",
        "plt.figure(figsize=(12,7))\n",
        "#plt.scatter(mmi, y, s=(10*z), c=z, cmap=colors, edgecolors='black', alpha=0.86)  \n",
        "  \n",
        "  \n",
        "l1 = plt.scatter(mmi, y, s=1*z,  color = \"skyblue\",edgecolors='black', alpha=0.86)\n",
        "l2 = plt.scatter(mmi, y, s=2*z,  color = \"skyblue\",edgecolors='black', alpha=0.86)\n",
        "l3 = plt.scatter(mmi, y, s=4*z,  color = \"skyblue\",edgecolors='black', alpha=0.86)\n",
        "l4 = plt.scatter(mmi, y, s=8*z,  color = \"skyblue\",edgecolors='black', alpha=0.86)\n",
        "                                      # 'edgecolors' adds outline around each marker                                              # 'alpha' controls the transparency of the markers \n",
        "plt.xlabel('Modified Mercalli Intensity')       # labels x-axis\n",
        "plt.ylabel('Community Decimal Intensity')                 # labels y-axis\n",
        "plt.xticks([1, 2, 3, 4],['I', 'II', 'III', 'IV'])                            # sets limits of x-axis\n",
        "plt.yticks([1, 2, 3, 4], ['1.0', '2.0', '3.0', '4.0'])  # sets locations, labels for ticks on y-axis\n",
        "#plt.plot(x*1.0, y4, 'o-', label='NaN values')\n",
        "#plt.legend([z=10,z=20], [\"10\", \"20\"])\n",
        "labels = [\"10\", \"20\", \"40\", \"80\"]\n",
        "plt.legend([l1, l2, l3, l4], labels, ncol=4, frameon=True, fontsize=12,title=\"No of Responses\")\n",
        "#plt.legend(loc=2, prop={'size': 6})\n",
        "#plt.legend(markerscale=0.5)\n",
        "plt.title('\"Did you feel it?\" data: CDI vs. MMI')  # adds title to the plot\n",
        "#cbar = plt.colorbar(label='No of responses')  # adds colorbar\n",
        "\n",
        "plt.grid()\n",
        "#cbar.set_ticklabels(['I', 'II', 'III', 'IV'])       \n",
        "plt.show()               \n",
        "######\n",
        "\n",
        "\n",
        "\n",
        "# comment \n",
        "\n",
        "plt.figure(figsize=(12,7))\n",
        "counts, bins = np.histogram(z)\n",
        "plt.hist(bins[:-1], bins, weights=counts,color = \"skyblue\", ec=\"skyblue\")\n",
        "#plt.hist(z,color = \"skyblue\", ec=\"skyblue\")  # comment \n",
        "plt.xlabel('No of responses per zipcode')       # labels x-axis\n",
        "plt.ylabel('Frequency')                 # labels y-axis\n",
        "plt.title('\"Did you feel it?\" data: Histogram of Responses')  # adds title to the plot\n",
        "#cbar = plt.colorbar(label='No of responses')  # adds colorbar\n",
        "plt.grid()\n",
        "\n",
        "\n",
        "colors = plt.get_cmap('viridis', 100)   # create a colormap with 4 colors\n",
        "\n",
        "plt.figure(figsize=(12,7))\n",
        "#plt.scatter(y, z) # comment\n",
        "l1 = plt.scatter(y, z, s=1*z,  c=z,cmap=colors,edgecolors='black', alpha=0.86)\n",
        "l2 = plt.scatter(y, z, s=2*z,  c=z, cmap=colors,edgecolors='black', alpha=0.86)\n",
        "l3 = plt.scatter(y,z, s=4*z,  c=z, cmap=colors,edgecolors='black', alpha=0.86)\n",
        "l4 = plt.scatter(y,z, s=8*z,  c=z, cmap=colors,edgecolors='black', alpha=0.86)\n",
        "plt.ylabel('No of responses')       # labels x-axis\n",
        "plt.xlabel('Community Decimal Intensity') \n",
        "cbar = plt.colorbar(label='No of responses in colors')  # adds colorbar\n",
        "\n",
        "plt.title('\"Did you feel it?\" data: CDI vs. No of Responses')   \n",
        "plt.grid() "
      ],
      "execution_count": 26,
      "outputs": [
        {
          "output_type": "display_data",
          "data": {
            "image/png": "[encoded data removed]",
            "text/plain": [
              "<Figure size 864x504 with 1 Axes>"
            ]
          },
          "metadata": {
            "tags": [],
            "needs_background": "light"
          }
        },
        {
          "output_type": "display_data",
          "data": {
            "image/png": "[encoded data removed]",
            "text/plain": [
              "<Figure size 864x504 with 1 Axes>"
            ]
          },
          "metadata": {
            "tags": [],
            "needs_background": "light"
          }
        },
        {
          "output_type": "display_data",
          "data": {
            "image/png": "[encoded data removed]",
            "text/plain": [
              "<Figure size 864x504 with 2 Axes>"
            ]
          },
          "metadata": {
            "tags": [],
            "needs_background": "light"
          }
        }
      ]
    },
    {
      "cell_type": "code",
      "metadata": {
        "id": "n_bGl8nhSO95"
      },
      "source": [
        "## Exercise 2B plot\r\n",
        "''''TODO''' "
      ],
      "execution_count": null,
      "outputs": []
    },
    {
      "cell_type": "markdown",
      "metadata": {
        "id": "3Z-U3ApEFtGD"
      },
      "source": [
        "# Activity 3: Numpy and SciPy"
      ]
    },
    {
      "cell_type": "markdown",
      "metadata": {
        "id": "gEwfpEskFxG-"
      },
      "source": [
        "[NumPy](https://numpy.org) (\"Numerical Python\") is one of the most important packages for scientific Python. It provides tools for creating and interacting with multi-dimensional arrays. Most packages for scientific Python will use or integrate NumPy. \n",
        "\n",
        "NumPy arrays very similar to the array data structure in Matlab. NumPy contains a number of useful methods for array and matrix operations, reading text and binary data files, fitting polynomial functions, and generating random numbers. Numpy also contains many mathematical functions (sine, cosine, square root, etc.).\n",
        "\n",
        "The [SciPy](https://www.scipy.org) (\"Scientific Python\") package provides additional useful functions for scientific applications, including optimization, linear algebra or sparse linear algebra, discrete Fourier transforms, signal processing, image processing, or numerical integration. \n",
        "\n",
        "Together, NumPy (fundamental array and matrix operations), SciPy (optimization, integration, optimization), and Matplotlib (plotting) can replace most of the functionality available in a standard Matlab installation.  \n",
        "\n",
        "The are a number of NumPy tutorials available online:\n",
        "*   [Scientific Data Structures in Python: NumPy Arrays](https://www.earthdatascience.org/courses/intro-to-earth-data-science/scientific-data-structures-python/numpy-arrays/).\n",
        "*   [MATLAB vs Python: Why and How to Make the Switch](https://realpython.com/matlab-vs-python/). \n",
        "*   [NumPy for Matlab Users](https://numpy.org/doc/stable/user/numpy-for-matlab-users.html).\n",
        "*   [NumPy Tutorials](https://numpy.org/learn/) (numpy.org)\n"
      ]
    },
    {
      "cell_type": "code",
      "metadata": {
        "id": "aKPnKp5iFQdO"
      },
      "source": [
        "import numpy as np\n",
        "from matplotlib import pyplot as plt"
      ],
      "execution_count": 27,
      "outputs": []
    },
    {
      "cell_type": "markdown",
      "metadata": {
        "id": "EXrywaRTBiUd"
      },
      "source": [
        "## Vectors and Arrays in NumPy"
      ]
    },
    {
      "cell_type": "markdown",
      "metadata": {
        "id": "fyPCatTECAe4"
      },
      "source": [
        "### Creating NumPy arrays\n",
        "\n",
        "Numerical data that is arranged in an array-like structure in Python (e.g. a `list` or columns from a Pandas DataFrame) can be converted to arrays with the `array()` function.\n",
        "\n",
        "**Run the following code to create a Python list `v`:**"
      ]
    },
    {
      "cell_type": "code",
      "metadata": {
        "id": "Q9mL6bojDtYz",
        "colab": {
          "base_uri": "https://localhost:8080/"
        },
        "outputId": "fdb695b0-818b-4061-9398-0c372b00772d"
      },
      "source": [
        "v = [1, 2, 3, 4]\n",
        "print(v)\n",
        "print(type(v))  #  v is a Python list"
      ],
      "execution_count": 28,
      "outputs": [
        {
          "output_type": "stream",
          "text": [
            "[1, 2, 3, 4]\n",
            "<class 'list'>\n"
          ],
          "name": "stdout"
        }
      ]
    },
    {
      "cell_type": "markdown",
      "metadata": {
        "id": "72Mw3uZDETIv"
      },
      "source": [
        "**Convert the list `v` into a NumPy array using the `array()` function:**"
      ]
    },
    {
      "cell_type": "code",
      "metadata": {
        "id": "AxSRNZd6EZaQ",
        "colab": {
          "base_uri": "https://localhost:8080/"
        },
        "outputId": "23686b4f-900b-4aab-d391-44d02a4298a8"
      },
      "source": [
        "array_v = np.array(v)\n",
        "print(array_v)\n",
        "print(type(array_v))   # array_v is a numpy array"
      ],
      "execution_count": 29,
      "outputs": [
        {
          "output_type": "stream",
          "text": [
            "[1 2 3 4]\n",
            "<class 'numpy.ndarray'>\n"
          ],
          "name": "stdout"
        }
      ]
    },
    {
      "cell_type": "markdown",
      "metadata": {
        "id": "FJsrJUmMEq1J"
      },
      "source": [
        "NumPy arrays can be multi-dimensional:"
      ]
    },
    {
      "cell_type": "code",
      "metadata": {
        "id": "KFCTPGw8CDa1",
        "colab": {
          "base_uri": "https://localhost:8080/"
        },
        "outputId": "675876c7-eec4-448e-9638-776650071837"
      },
      "source": [
        "Y = np.array([1, 2, 3, 4])\n",
        "print(y)"
      ],
      "execution_count": 30,
      "outputs": [
        {
          "output_type": "stream",
          "text": [
            "0      1.0\n",
            "1      1.0\n",
            "2      2.0\n",
            "3      2.7\n",
            "4      1.0\n",
            "      ... \n",
            "266    3.1\n",
            "267    1.0\n",
            "268    2.0\n",
            "269    1.0\n",
            "270    2.0\n",
            "Name: CDI, Length: 271, dtype: float64\n"
          ],
          "name": "stdout"
        }
      ]
    },
    {
      "cell_type": "code",
      "metadata": {
        "id": "x4DWHCLqCLd-",
        "colab": {
          "base_uri": "https://localhost:8080/"
        },
        "outputId": "96a1f8ee-619f-4d64-b40f-e00e81a923fd"
      },
      "source": [
        "X = np.array([[1, 2, 3], [4, 5, 6]])\n",
        "print(X)"
      ],
      "execution_count": 31,
      "outputs": [
        {
          "output_type": "stream",
          "text": [
            "[[1 2 3]\n",
            " [4 5 6]]\n"
          ],
          "name": "stdout"
        }
      ]
    },
    {
      "cell_type": "code",
      "metadata": {
        "id": "XjHvSAbvCrtH",
        "colab": {
          "base_uri": "https://localhost:8080/"
        },
        "outputId": "4ee1baf9-c9c7-4abf-bea1-af1b47fd962f"
      },
      "source": [
        "Z = np.array([ [[1, 2, 3], [4, 5, 6]], [[2, 4, 6], [3, 5, 7]] ])\n",
        "print(Z)"
      ],
      "execution_count": 32,
      "outputs": [
        {
          "output_type": "stream",
          "text": [
            "[[[1 2 3]\n",
            "  [4 5 6]]\n",
            "\n",
            " [[2 4 6]\n",
            "  [3 5 7]]]\n"
          ],
          "name": "stdout"
        }
      ]
    },
    {
      "cell_type": "markdown",
      "metadata": {
        "id": "iMaOZgJJFkk3"
      },
      "source": [
        "We can use `shape` to get the dimensions of a NumPy array:"
      ]
    },
    {
      "cell_type": "code",
      "metadata": {
        "id": "Aw2Vab8NClDG",
        "colab": {
          "base_uri": "https://localhost:8080/"
        },
        "outputId": "aeb9f8e1-e7b2-499a-8457-15c922495df3"
      },
      "source": [
        "print(Y.shape)\n",
        "print(X.shape)\n",
        "print(Z.shape)"
      ],
      "execution_count": 33,
      "outputs": [
        {
          "output_type": "stream",
          "text": [
            "(4,)\n",
            "(2, 3)\n",
            "(2, 2, 3)\n"
          ],
          "name": "stdout"
        }
      ]
    },
    {
      "cell_type": "markdown",
      "metadata": {
        "id": "xTKHohvIE_o_"
      },
      "source": [
        "There are also special functions such as `zeros()`, `ones()` or `eye()` that can be used to create special arrays. \n",
        "\n",
        "**Run the code below for examples:**"
      ]
    },
    {
      "cell_type": "code",
      "metadata": {
        "id": "EMC7CK1yE1nZ",
        "colab": {
          "base_uri": "https://localhost:8080/"
        },
        "outputId": "afaecb27-2fe5-451a-819a-c49389278209"
      },
      "source": [
        "A = np.zeros(5)\n",
        "\n",
        "print(A)\n",
        "print(A.shape)"
      ],
      "execution_count": 34,
      "outputs": [
        {
          "output_type": "stream",
          "text": [
            "[ 0.  0.  0.  0.  0.]\n",
            "(5,)\n"
          ],
          "name": "stdout"
        }
      ]
    },
    {
      "cell_type": "code",
      "metadata": {
        "id": "J8fcN2EsFdKe",
        "colab": {
          "base_uri": "https://localhost:8080/"
        },
        "outputId": "b73fec44-384d-4b20-86e9-ea842319d662"
      },
      "source": [
        "B = np.ones([2, 4])\n",
        "\n",
        "print(B)\n",
        "print(B.shape)"
      ],
      "execution_count": 35,
      "outputs": [
        {
          "output_type": "stream",
          "text": [
            "[[ 1.  1.  1.  1.]\n",
            " [ 1.  1.  1.  1.]]\n",
            "(2, 4)\n"
          ],
          "name": "stdout"
        }
      ]
    },
    {
      "cell_type": "code",
      "metadata": {
        "id": "WrYN_OPhF5zU",
        "colab": {
          "base_uri": "https://localhost:8080/"
        },
        "outputId": "9b858ea6-e980-4a3c-89e8-e1e111d5411b"
      },
      "source": [
        "C = np.eye(3)\n",
        "\n",
        "print(C)\n",
        "print(C.shape)"
      ],
      "execution_count": 36,
      "outputs": [
        {
          "output_type": "stream",
          "text": [
            "[[ 1.  0.  0.]\n",
            " [ 0.  1.  0.]\n",
            " [ 0.  0.  1.]]\n",
            "(3, 3)\n"
          ],
          "name": "stdout"
        }
      ]
    },
    {
      "cell_type": "markdown",
      "metadata": {
        "id": "gCbjgATgGLEq"
      },
      "source": [
        "### Indexing and slicing NumPy arrays\n",
        "\n"
      ]
    },
    {
      "cell_type": "markdown",
      "metadata": {
        "id": "bU-jBr6dK1dy"
      },
      "source": [
        "#### 1D NumPy arrays\n",
        "Indexing and slicing allow us to access a single element of an array or a subset of elements in an array. "
      ]
    },
    {
      "cell_type": "code",
      "metadata": {
        "id": "kqKcwh0lKjZy",
        "colab": {
          "base_uri": "https://localhost:8080/"
        },
        "outputId": "009878a8-4a1e-4a41-8a0f-25d479ca426f"
      },
      "source": [
        "vec = np.array([2, 4, 6, 8, 10, 12, 14, 16, 18, 20])\n",
        "print(vec)\n",
        "print(vec.shape)"
      ],
      "execution_count": 37,
      "outputs": [
        {
          "output_type": "stream",
          "text": [
            "[ 2  4  6  8 10 12 14 16 18 20]\n",
            "(10,)\n"
          ],
          "name": "stdout"
        }
      ]
    },
    {
      "cell_type": "markdown",
      "metadata": {
        "id": "byQgblk1LJ3X"
      },
      "source": [
        "The first element of a NumPy array has index `0` (Python uses 0-based indexing vs. 1-based indexing used by Matlab):"
      ]
    },
    {
      "cell_type": "code",
      "metadata": {
        "id": "DFqAsWDNLIqo",
        "colab": {
          "base_uri": "https://localhost:8080/"
        },
        "outputId": "1672c11b-9556-4352-a10c-d01130431193"
      },
      "source": [
        "vec[0]"
      ],
      "execution_count": 38,
      "outputs": [
        {
          "output_type": "execute_result",
          "data": {
            "text/plain": [
              "2"
            ]
          },
          "metadata": {
            "tags": []
          },
          "execution_count": 38
        }
      ]
    },
    {
      "cell_type": "code",
      "metadata": {
        "id": "UeTif01vPuII",
        "colab": {
          "base_uri": "https://localhost:8080/"
        },
        "outputId": "c73d3a37-8f10-4509-ee0e-79951408c7f7"
      },
      "source": [
        "vec[6]"
      ],
      "execution_count": 39,
      "outputs": [
        {
          "output_type": "execute_result",
          "data": {
            "text/plain": [
              "14"
            ]
          },
          "metadata": {
            "tags": []
          },
          "execution_count": 39
        }
      ]
    },
    {
      "cell_type": "markdown",
      "metadata": {
        "id": "ORREGVx9L0Il"
      },
      "source": [
        "We can slice the array (returning a subset) `[start:end]`, which returns the subset of array elements from index `start` to index `end` (including the `start` index, but excluding the `end` index)."
      ]
    },
    {
      "cell_type": "code",
      "metadata": {
        "id": "-A87OZnZLxBt",
        "colab": {
          "base_uri": "https://localhost:8080/"
        },
        "outputId": "b7fbd92d-638c-45ea-a9b6-62c837aa66b7"
      },
      "source": [
        "vec[3:6]"
      ],
      "execution_count": 40,
      "outputs": [
        {
          "output_type": "execute_result",
          "data": {
            "text/plain": [
              "array([ 8, 10, 12])"
            ]
          },
          "metadata": {
            "tags": []
          },
          "execution_count": 40
        }
      ]
    },
    {
      "cell_type": "code",
      "metadata": {
        "id": "sP3b-rmyPFvD",
        "colab": {
          "base_uri": "https://localhost:8080/"
        },
        "outputId": "ea8c3a98-e12f-47ad-ef36-89b4d4fbc45d"
      },
      "source": [
        "vec[1:8]"
      ],
      "execution_count": 41,
      "outputs": [
        {
          "output_type": "execute_result",
          "data": {
            "text/plain": [
              "array([ 4,  6,  8, 10, 12, 14, 16])"
            ]
          },
          "metadata": {
            "tags": []
          },
          "execution_count": 41
        }
      ]
    },
    {
      "cell_type": "markdown",
      "metadata": {
        "id": "Lrv_U1j5OtDH"
      },
      "source": [
        "We can also define a step in our indexing: `[start:end:step]`"
      ]
    },
    {
      "cell_type": "code",
      "metadata": {
        "id": "Ry4a8hMKO32B",
        "colab": {
          "base_uri": "https://localhost:8080/"
        },
        "outputId": "c7028367-c9dc-4a18-9538-7a4b65124ddc"
      },
      "source": [
        "vec[1:8:2]"
      ],
      "execution_count": 42,
      "outputs": [
        {
          "output_type": "execute_result",
          "data": {
            "text/plain": [
              "array([ 4,  8, 12, 16])"
            ]
          },
          "metadata": {
            "tags": []
          },
          "execution_count": 42
        }
      ]
    },
    {
      "cell_type": "markdown",
      "metadata": {
        "id": "qRp1QVXtNLkS"
      },
      "source": [
        "A blank value before or after the `:` symbol indicates that indexing should start at the first index or end at the final index, respectively:"
      ]
    },
    {
      "cell_type": "code",
      "metadata": {
        "id": "vNaCrJ_iNUA8",
        "colab": {
          "base_uri": "https://localhost:8080/"
        },
        "outputId": "45128c44-2bea-4795-ccb5-13d02859125d"
      },
      "source": [
        "vec[:6]   # equivalent to vec[0:6]"
      ],
      "execution_count": 43,
      "outputs": [
        {
          "output_type": "execute_result",
          "data": {
            "text/plain": [
              "array([ 2,  4,  6,  8, 10, 12])"
            ]
          },
          "metadata": {
            "tags": []
          },
          "execution_count": 43
        }
      ]
    },
    {
      "cell_type": "code",
      "metadata": {
        "id": "MfpzGHgiNXru",
        "colab": {
          "base_uri": "https://localhost:8080/"
        },
        "outputId": "3fd01c12-a17d-4aab-c866-523ada89cca3"
      },
      "source": [
        "vec[6:]  # equivalent to vec[6:10]"
      ],
      "execution_count": 44,
      "outputs": [
        {
          "output_type": "execute_result",
          "data": {
            "text/plain": [
              "array([14, 16, 18, 20])"
            ]
          },
          "metadata": {
            "tags": []
          },
          "execution_count": 44
        }
      ]
    },
    {
      "cell_type": "code",
      "metadata": {
        "id": "XRtnePoGNaSQ",
        "colab": {
          "base_uri": "https://localhost:8080/"
        },
        "outputId": "ac3a4d46-fce0-49fa-cb13-80eeb22d8c06"
      },
      "source": [
        "vec[:]   # all indices, equivalent to vec[0:10]"
      ],
      "execution_count": 45,
      "outputs": [
        {
          "output_type": "execute_result",
          "data": {
            "text/plain": [
              "array([ 2,  4,  6,  8, 10, 12, 14, 16, 18, 20])"
            ]
          },
          "metadata": {
            "tags": []
          },
          "execution_count": 45
        }
      ]
    },
    {
      "cell_type": "markdown",
      "metadata": {
        "id": "9-vdrKk0Lnz0"
      },
      "source": [
        "Negative index values index from the end of the array. "
      ]
    },
    {
      "cell_type": "code",
      "metadata": {
        "id": "OOA3YA46MqLT",
        "colab": {
          "base_uri": "https://localhost:8080/"
        },
        "outputId": "3382d3dc-efeb-44f9-e6f5-c2b9f0a7d5dc"
      },
      "source": [
        "vec[-6:-2]"
      ],
      "execution_count": 46,
      "outputs": [
        {
          "output_type": "execute_result",
          "data": {
            "text/plain": [
              "array([10, 12, 14, 16])"
            ]
          },
          "metadata": {
            "tags": []
          },
          "execution_count": 46
        }
      ]
    },
    {
      "cell_type": "markdown",
      "metadata": {
        "id": "RlzaSBevNBhT"
      },
      "source": [
        "The index `-1` can be used to access the final index of the array:"
      ]
    },
    {
      "cell_type": "code",
      "metadata": {
        "id": "oOxqGuSzLkLu",
        "colab": {
          "base_uri": "https://localhost:8080/"
        },
        "outputId": "bcad18a2-1fae-4b2e-e0aa-95db0fd133d1"
      },
      "source": [
        "vec[-1]"
      ],
      "execution_count": 47,
      "outputs": [
        {
          "output_type": "execute_result",
          "data": {
            "text/plain": [
              "20"
            ]
          },
          "metadata": {
            "tags": []
          },
          "execution_count": 47
        }
      ]
    },
    {
      "cell_type": "markdown",
      "metadata": {
        "id": "gktjbr7jOjaL"
      },
      "source": [
        "#### 2D NumPy arrays"
      ]
    },
    {
      "cell_type": "code",
      "metadata": {
        "id": "tyB-0n-_KlHA",
        "colab": {
          "base_uri": "https://localhost:8080/"
        },
        "outputId": "978658d8-5fe4-41d8-f3a8-a780d6711dba"
      },
      "source": [
        "mat = np.array([[1, 2, 3, 4], [5, 6, 7, 8], [9, 10, 11, 12]])\n",
        "print(mat)\n",
        "print(mat.shape)"
      ],
      "execution_count": 48,
      "outputs": [
        {
          "output_type": "stream",
          "text": [
            "[[ 1  2  3  4]\n",
            " [ 5  6  7  8]\n",
            " [ 9 10 11 12]]\n",
            "(3, 4)\n"
          ],
          "name": "stdout"
        }
      ]
    },
    {
      "cell_type": "markdown",
      "metadata": {
        "id": "wKKVW1kBQsOZ"
      },
      "source": [
        "To index elements of a 2-dimensional array, we use two indices. The first index indicates the row index, and the second indicates the column index. **Run the code below to see examples of indexing 2D arrays:**"
      ]
    },
    {
      "cell_type": "code",
      "metadata": {
        "id": "fegEs85XRFgQ",
        "colab": {
          "base_uri": "https://localhost:8080/"
        },
        "outputId": "69ff018a-4e6a-48f5-c51c-73d10951fcd4"
      },
      "source": [
        "mat[0, 2]"
      ],
      "execution_count": 49,
      "outputs": [
        {
          "output_type": "execute_result",
          "data": {
            "text/plain": [
              "3"
            ]
          },
          "metadata": {
            "tags": []
          },
          "execution_count": 49
        }
      ]
    },
    {
      "cell_type": "code",
      "metadata": {
        "id": "dHG2471HRJSI",
        "colab": {
          "base_uri": "https://localhost:8080/"
        },
        "outputId": "ff004227-f48a-4067-c7b2-2d1e8ae5a49b"
      },
      "source": [
        "mat[2, 3]"
      ],
      "execution_count": 50,
      "outputs": [
        {
          "output_type": "execute_result",
          "data": {
            "text/plain": [
              "12"
            ]
          },
          "metadata": {
            "tags": []
          },
          "execution_count": 50
        }
      ]
    },
    {
      "cell_type": "code",
      "metadata": {
        "id": "9t3hn4CRRaIY",
        "colab": {
          "base_uri": "https://localhost:8080/"
        },
        "outputId": "e48e06e9-abc0-4737-9783-0436334ffb9d"
      },
      "source": [
        "mat[0:2, 2:4]"
      ],
      "execution_count": 51,
      "outputs": [
        {
          "output_type": "execute_result",
          "data": {
            "text/plain": [
              "array([[3, 4],\n",
              "       [7, 8]])"
            ]
          },
          "metadata": {
            "tags": []
          },
          "execution_count": 51
        }
      ]
    },
    {
      "cell_type": "code",
      "metadata": {
        "id": "oGkkfgtFRUkp",
        "colab": {
          "base_uri": "https://localhost:8080/"
        },
        "outputId": "d0c695d3-4bb0-45c8-f114-f41bf27c6de1"
      },
      "source": [
        "mat[0,:]"
      ],
      "execution_count": 52,
      "outputs": [
        {
          "output_type": "execute_result",
          "data": {
            "text/plain": [
              "array([1, 2, 3, 4])"
            ]
          },
          "metadata": {
            "tags": []
          },
          "execution_count": 52
        }
      ]
    },
    {
      "cell_type": "code",
      "metadata": {
        "id": "Me-nsBsgQmEQ",
        "colab": {
          "base_uri": "https://localhost:8080/"
        },
        "outputId": "78b8e023-97ae-4f95-f8f0-d9e5d03176c3"
      },
      "source": [
        "mat[:,3]"
      ],
      "execution_count": 53,
      "outputs": [
        {
          "output_type": "execute_result",
          "data": {
            "text/plain": [
              "array([ 4,  8, 12])"
            ]
          },
          "metadata": {
            "tags": []
          },
          "execution_count": 53
        }
      ]
    },
    {
      "cell_type": "code",
      "metadata": {
        "id": "_1kqpuRoR8MP",
        "colab": {
          "base_uri": "https://localhost:8080/"
        },
        "outputId": "1a1187fc-b78d-4fe8-c69d-7f49cb05d59c"
      },
      "source": [
        "mat[:,1:4:2]"
      ],
      "execution_count": 54,
      "outputs": [
        {
          "output_type": "execute_result",
          "data": {
            "text/plain": [
              "array([[ 2,  4],\n",
              "       [ 6,  8],\n",
              "       [10, 12]])"
            ]
          },
          "metadata": {
            "tags": []
          },
          "execution_count": 54
        }
      ]
    },
    {
      "cell_type": "markdown",
      "metadata": {
        "id": "kjtPJ6XKTZWD"
      },
      "source": [
        "## Exercise 3A"
      ]
    },
    {
      "cell_type": "code",
      "metadata": {
        "id": "MQ1CpHeISLK_",
        "colab": {
          "base_uri": "https://localhost:8080/"
        },
        "outputId": "6a9bf854-4168-42d3-f322-20c6f5c64368"
      },
      "source": [
        "M = np.arange(40).reshape(5,8)\n",
        "print(M)"
      ],
      "execution_count": 55,
      "outputs": [
        {
          "output_type": "stream",
          "text": [
            "[[ 0  1  2  3  4  5  6  7]\n",
            " [ 8  9 10 11 12 13 14 15]\n",
            " [16 17 18 19 20 21 22 23]\n",
            " [24 25 26 27 28 29 30 31]\n",
            " [32 33 34 35 36 37 38 39]]\n"
          ],
          "name": "stdout"
        }
      ]
    },
    {
      "cell_type": "markdown",
      "metadata": {
        "id": "ul79smoUUSi8"
      },
      "source": [
        "**Use array indexing and slicing to print the 3x3 subarray made up of the elements in the 2nd, 3rd and 4th rows, and the 4th, 6th and 8th columns of array `M` above.** Your solution should return the following subarray:\n",
        "```\n",
        "[[11 13 15]\n",
        " [19 21 23]\n",
        " [27 29 31]]\n",
        "```\n",
        "\n"
      ]
    },
    {
      "cell_type": "code",
      "metadata": {
        "id": "C_8xbQQ6VJHS",
        "colab": {
          "base_uri": "https://localhost:8080/"
        },
        "outputId": "06791976-89db-489d-d312-224fb40a1fb7"
      },
      "source": [
        "submat = M[1:4, 3:8:2] # 1:4 =2,3,4 rows and 3:8:2 = 4th to 8th row, each 2nd\n",
        "print(submat)"
      ],
      "execution_count": 56,
      "outputs": [
        {
          "output_type": "stream",
          "text": [
            "[[11 13 15]\n",
            " [19 21 23]\n",
            " [27 29 31]]\n"
          ],
          "name": "stdout"
        }
      ]
    },
    {
      "cell_type": "markdown",
      "metadata": {
        "id": "U0HHQr7jUjYI"
      },
      "source": [
        "> Don't forget that python uses 0-indexing as opposed to MATLAB or other languages' 1-indexing (The first entry in an array is 0)!"
      ]
    },
    {
      "cell_type": "markdown",
      "metadata": {
        "id": "ogOAt4I5ackf"
      },
      "source": [
        "## Matrix Operations"
      ]
    },
    {
      "cell_type": "code",
      "metadata": {
        "id": "BZqQI4umaheC"
      },
      "source": [
        "A = np.array([[1, 2, 3], [4, 5, 6]])\n",
        "B = np.array([[3, -1, 0], [2, 4, -8]])\n",
        "C = np.array([[-2, 3], [1, 5]])\n",
        "\n",
        "x = np.array([7, -5, 1])\n",
        "y = np.array([2, 3, -6])"
      ],
      "execution_count": 64,
      "outputs": []
    },
    {
      "cell_type": "markdown",
      "metadata": {
        "id": "3QYxBYoHdL8s"
      },
      "source": [
        "Vector addition:"
      ]
    },
    {
      "cell_type": "code",
      "metadata": {
        "id": "GMTBIn0adIh4",
        "colab": {
          "base_uri": "https://localhost:8080/"
        },
        "outputId": "e39b57cc-2785-4034-b14c-d9e107e5c5b1"
      },
      "source": [
        "x + y"
      ],
      "execution_count": 57,
      "outputs": [
        {
          "output_type": "execute_result",
          "data": {
            "text/plain": [
              "0      978.0\n",
              "1      923.0\n",
              "2      285.0\n",
              "3      648.7\n",
              "4      433.0\n",
              "       ...  \n",
              "266    189.1\n",
              "267    221.0\n",
              "268    270.0\n",
              "269    333.0\n",
              "270    975.0\n",
              "Length: 271, dtype: float64"
            ]
          },
          "metadata": {
            "tags": []
          },
          "execution_count": 57
        }
      ]
    },
    {
      "cell_type": "markdown",
      "metadata": {
        "id": "cdwh6iZ6c634"
      },
      "source": [
        "Dot product (inner product) of two vectors:"
      ]
    },
    {
      "cell_type": "code",
      "metadata": {
        "id": "J4Q-Li-Va_rD",
        "colab": {
          "base_uri": "https://localhost:8080/"
        },
        "outputId": "830eeb08-13c1-4eb0-9ff3-21711f7c83ff"
      },
      "source": [
        "np.dot(x,y)"
      ],
      "execution_count": 58,
      "outputs": [
        {
          "output_type": "execute_result",
          "data": {
            "text/plain": [
              "71380.600000000006"
            ]
          },
          "metadata": {
            "tags": []
          },
          "execution_count": 58
        }
      ]
    },
    {
      "cell_type": "markdown",
      "metadata": {
        "id": "C8Za6lS4dR7M"
      },
      "source": [
        "Scalar multiplication:"
      ]
    },
    {
      "cell_type": "code",
      "metadata": {
        "id": "yLD98C16dTgl",
        "colab": {
          "base_uri": "https://localhost:8080/"
        },
        "outputId": "1ad338d3-0d3b-400a-e9d4-2f2cb619f427"
      },
      "source": [
        "-3*x"
      ],
      "execution_count": 59,
      "outputs": [
        {
          "output_type": "execute_result",
          "data": {
            "text/plain": [
              "0     -2931\n",
              "1     -2766\n",
              "2      -849\n",
              "3     -1938\n",
              "4     -1296\n",
              "       ... \n",
              "266    -558\n",
              "267    -660\n",
              "268    -804\n",
              "269    -996\n",
              "270   -2919\n",
              "Name: Hypocentral distance, Length: 271, dtype: int64"
            ]
          },
          "metadata": {
            "tags": []
          },
          "execution_count": 59
        }
      ]
    },
    {
      "cell_type": "code",
      "metadata": {
        "id": "OoR3ss6XcZmD",
        "colab": {
          "base_uri": "https://localhost:8080/"
        },
        "outputId": "51caeab7-9898-461e-8377-416a8db93ae4"
      },
      "source": [
        "5*A"
      ],
      "execution_count": 60,
      "outputs": [
        {
          "output_type": "execute_result",
          "data": {
            "text/plain": [
              "array([ 0.,  0.,  0.,  0.,  0.])"
            ]
          },
          "metadata": {
            "tags": []
          },
          "execution_count": 60
        }
      ]
    },
    {
      "cell_type": "code",
      "metadata": {
        "id": "NYXTRcc8bbHH",
        "colab": {
          "base_uri": "https://localhost:8080/"
        },
        "outputId": "73e57751-a9b7-4cbf-d84a-a16a95cf7019"
      },
      "source": [
        "np.multiply(5, A)"
      ],
      "execution_count": 61,
      "outputs": [
        {
          "output_type": "execute_result",
          "data": {
            "text/plain": [
              "array([ 0.,  0.,  0.,  0.,  0.])"
            ]
          },
          "metadata": {
            "tags": []
          },
          "execution_count": 61
        }
      ]
    },
    {
      "cell_type": "markdown",
      "metadata": {
        "id": "ISwwj5DIdZpK"
      },
      "source": [
        "Matrix addition:"
      ]
    },
    {
      "cell_type": "code",
      "metadata": {
        "id": "vXYUYtdSchP0",
        "colab": {
          "base_uri": "https://localhost:8080/"
        },
        "outputId": "cc4b75e2-65fe-4dc7-8889-f25cd7ef0f9b"
      },
      "source": [
        "A + B"
      ],
      "execution_count": 65,
      "outputs": [
        {
          "output_type": "execute_result",
          "data": {
            "text/plain": [
              "array([[ 4,  1,  3],\n",
              "       [ 6,  9, -2]])"
            ]
          },
          "metadata": {
            "tags": []
          },
          "execution_count": 65
        }
      ]
    },
    {
      "cell_type": "code",
      "metadata": {
        "id": "OEpInDn8bNZc",
        "colab": {
          "base_uri": "https://localhost:8080/"
        },
        "outputId": "c476c125-43b2-48e6-ca01-85525b381c71"
      },
      "source": [
        "np.add(A, B)"
      ],
      "execution_count": 66,
      "outputs": [
        {
          "output_type": "execute_result",
          "data": {
            "text/plain": [
              "array([[ 4,  1,  3],\n",
              "       [ 6,  9, -2]])"
            ]
          },
          "metadata": {
            "tags": []
          },
          "execution_count": 66
        }
      ]
    },
    {
      "cell_type": "markdown",
      "metadata": {
        "id": "AV-b2xX7deDf"
      },
      "source": [
        "Matrix Multiplication:"
      ]
    },
    {
      "cell_type": "code",
      "metadata": {
        "id": "mU1ihdYhbt6p",
        "colab": {
          "base_uri": "https://localhost:8080/"
        },
        "outputId": "a8ab5ac7-3c28-4a05-df10-2d956533e3a4"
      },
      "source": [
        "np.matmul(C, A)"
      ],
      "execution_count": 67,
      "outputs": [
        {
          "output_type": "execute_result",
          "data": {
            "text/plain": [
              "array([[10, 11, 12],\n",
              "       [21, 27, 33]])"
            ]
          },
          "metadata": {
            "tags": []
          },
          "execution_count": 67
        }
      ]
    },
    {
      "cell_type": "markdown",
      "metadata": {
        "id": "wxZvp3mhdgv6"
      },
      "source": [
        "Matrix transpose (flipping rows and columns):"
      ]
    },
    {
      "cell_type": "code",
      "metadata": {
        "id": "2ZRMyiJcclVm",
        "colab": {
          "base_uri": "https://localhost:8080/"
        },
        "outputId": "3426e514-5c82-4e41-c250-d0dfd91ae285"
      },
      "source": [
        "A.transpose()"
      ],
      "execution_count": 68,
      "outputs": [
        {
          "output_type": "execute_result",
          "data": {
            "text/plain": [
              "array([[1, 4],\n",
              "       [2, 5],\n",
              "       [3, 6]])"
            ]
          },
          "metadata": {
            "tags": []
          },
          "execution_count": 68
        }
      ]
    },
    {
      "cell_type": "code",
      "metadata": {
        "id": "Avn-yiwdb2Ee",
        "colab": {
          "base_uri": "https://localhost:8080/"
        },
        "outputId": "caf50d01-581a-4a91-e75a-0a742a947348"
      },
      "source": [
        "np.transpose(A)"
      ],
      "execution_count": 69,
      "outputs": [
        {
          "output_type": "execute_result",
          "data": {
            "text/plain": [
              "array([[1, 4],\n",
              "       [2, 5],\n",
              "       [3, 6]])"
            ]
          },
          "metadata": {
            "tags": []
          },
          "execution_count": 69
        }
      ]
    },
    {
      "cell_type": "markdown",
      "metadata": {
        "id": "gTvbWrogc3Dk"
      },
      "source": [
        "Element-wise multiplication:"
      ]
    },
    {
      "cell_type": "code",
      "metadata": {
        "id": "wTDs8H0XcvUe",
        "colab": {
          "base_uri": "https://localhost:8080/"
        },
        "outputId": "c31b8125-d1e4-4854-9933-05a341774696"
      },
      "source": [
        "np.multiply(A,B)"
      ],
      "execution_count": 70,
      "outputs": [
        {
          "output_type": "execute_result",
          "data": {
            "text/plain": [
              "array([[  3,  -2,   0],\n",
              "       [  8,  20, -48]])"
            ]
          },
          "metadata": {
            "tags": []
          },
          "execution_count": 70
        }
      ]
    },
    {
      "cell_type": "code",
      "metadata": {
        "id": "lhQvrohXdosz",
        "colab": {
          "base_uri": "https://localhost:8080/"
        },
        "outputId": "69023fb4-06df-4105-a250-eb3f0db5ee92"
      },
      "source": [
        "A * B"
      ],
      "execution_count": 71,
      "outputs": [
        {
          "output_type": "execute_result",
          "data": {
            "text/plain": [
              "array([[  3,  -2,   0],\n",
              "       [  8,  20, -48]])"
            ]
          },
          "metadata": {
            "tags": []
          },
          "execution_count": 71
        }
      ]
    },
    {
      "cell_type": "markdown",
      "metadata": {
        "id": "8y19Uj3udu0K"
      },
      "source": [
        "Composing multiple matrix operations: $((CA)+B)y$"
      ]
    },
    {
      "cell_type": "code",
      "metadata": {
        "id": "22tk3cJudszx",
        "colab": {
          "base_uri": "https://localhost:8080/"
        },
        "outputId": "c7f358b3-3091-47e0-942f-719917331601"
      },
      "source": [
        "np.matmul(np.matmul(C, A) + B, y)"
      ],
      "execution_count": 72,
      "outputs": [
        {
          "output_type": "execute_result",
          "data": {
            "text/plain": [
              "array([-16, -11])"
            ]
          },
          "metadata": {
            "tags": []
          },
          "execution_count": 72
        }
      ]
    },
    {
      "cell_type": "markdown",
      "metadata": {
        "id": "UhcBXyAEWcAB"
      },
      "source": [
        "## Random Sampling in NumPy"
      ]
    },
    {
      "cell_type": "markdown",
      "metadata": {
        "id": "CbE-yc8ziaoS"
      },
      "source": [
        "### Mathematical Functions and Constants"
      ]
    },
    {
      "cell_type": "markdown",
      "metadata": {
        "id": "TupsDPasgidt"
      },
      "source": [
        "NumPy contains a number of common mathematical functions and constants. For example, the following function definition uses the sine function (`np.sin()`) and constant $\\pi$ (`np.pi`):"
      ]
    },
    {
      "cell_type": "code",
      "metadata": {
        "id": "ABC49cZzguH8"
      },
      "source": [
        "def my_func(x, c=1):\n",
        "  return np.sin(c*x/np.pi)"
      ],
      "execution_count": 73,
      "outputs": []
    },
    {
      "cell_type": "markdown",
      "metadata": {
        "id": "-cZjb6HiJp_o"
      },
      "source": [
        "The `linspace()` function creates an array of equally spaced numbers over a specified interval. We can use this to plot the function `my_func()`:"
      ]
    },
    {
      "cell_type": "code",
      "metadata": {
        "id": "BHuQve6OGcY2",
        "colab": {
          "base_uri": "https://localhost:8080/",
          "height": 295
        },
        "outputId": "9c2f7da2-19ea-4d28-ca58-5f86ea203fda"
      },
      "source": [
        "numpoints = 101\n",
        "x0 = np.linspace(-5, 5, numpoints)  # creates an array of 101 points from -5 to 5, inclusive\n",
        "y0 = my_func(x0,3)\n",
        "\n",
        "plt.plot(x0, y0, marker='.')\n",
        "plt.xlabel('x')\n",
        "plt.ylabel('y')\n",
        "plt.show()"
      ],
      "execution_count": 74,
      "outputs": [
        {
          "output_type": "display_data",
          "data": {
            "image/png": "[encoded data removed]",
            "text/plain": [
              "<Figure size 432x288 with 1 Axes>"
            ]
          },
          "metadata": {
            "tags": [],
            "needs_background": "light"
          }
        }
      ]
    },
    {
      "cell_type": "markdown",
      "metadata": {
        "id": "8-OZfPA8hvi5"
      },
      "source": [
        "### Drawing Random Samples"
      ]
    },
    {
      "cell_type": "markdown",
      "metadata": {
        "id": "6ualNMdLJ_tD"
      },
      "source": [
        "NumPy contains a module called `random` that can perform random sampling. Here we will sample values from a Gaussian distribution ([`random.normal`](https://numpy.org/doc/stable/reference/random/generated/numpy.random.normal.html)) and uniform distributions ([`random.rand`](https://numpy.org/doc/stable/reference/random/generated/numpy.random.rand.html)) and add this noise to our sine function from the previous section. "
      ]
    },
    {
      "cell_type": "markdown",
      "metadata": {
        "id": "l_V3ID_ikGzp"
      },
      "source": [
        "Before we generate our random samples, we will use the [`random.seed()`](https://medium.com/@debanjana.bhattacharyya9818/numpy-random-seed-101-explained-2e96ee3fd90b) function to set the state of NumPy's pseudo-random number generator so we can draw the same set of \"random\" values when we run the code again later. \n",
        "\n",
        "Setting the seed value before you draw a random sample is often good idea during the development stage of a data science project. This is because it helps you to dedug your solution: you can determine that changes in your results are due to modifications to your code and not due to chance (from drawing a new sample). "
      ]
    },
    {
      "cell_type": "code",
      "metadata": {
        "id": "jtP9f3cwJNyP"
      },
      "source": [
        "np.random.seed(1234)  # setting the random seed guarantees that we will get the same random sample each time we run this code\n",
        "                      # changing the random seed value will change the random sample"
      ],
      "execution_count": 75,
      "outputs": []
    },
    {
      "cell_type": "code",
      "metadata": {
        "id": "3shU4uEnl6tJ"
      },
      "source": [
        "# Draw a random sample from Gaussian (normal) distribution with mean 0.0 and standard deviation 0.2\n",
        "z1 = np.random.normal(loc=0.0, scale=0.2, size=numpoints)  \n",
        "\n",
        "# Draw random sample from uniform distribution [0, 1]. We substract 0.5 to shift the distribution to the range [-0.5, 0.5]\n",
        "z2 = np.random.rand(numpoints) - 0.5  "
      ],
      "execution_count": 76,
      "outputs": []
    },
    {
      "cell_type": "markdown",
      "metadata": {
        "id": "bPC0dMgFoxpa"
      },
      "source": [
        "We can visualize these random samples with histograms (using the Matplotlib library)."
      ]
    },
    {
      "cell_type": "code",
      "metadata": {
        "id": "L6-GRbUknxcZ",
        "colab": {
          "base_uri": "https://localhost:8080/",
          "height": 727
        },
        "outputId": "24f755b4-ad58-49a4-acd5-f3b6de46117a"
      },
      "source": [
        "plt.figure(figsize=(10,5))\n",
        "plt.hist(z1, bins=20, color='skyblue', edgecolor='black')\n",
        "plt.title('Gaussian sample')\n",
        "plt.xlabel('z1')\n",
        "plt.ylabel('count')\n",
        "plt.xlim([-0.6, 0.6])\n",
        "\n",
        "plt.figure(figsize=(10,5))\n",
        "plt.hist(z2, bins=20, color='teal', edgecolor='black')\n",
        "plt.title('Uniform sample')\n",
        "plt.xlabel('z2')\n",
        "plt.ylabel('count')\n",
        "plt.xlim([-0.6, 0.6])\n",
        "plt.show()"
      ],
      "execution_count": 77,
      "outputs": [
        {
          "output_type": "display_data",
          "data": {
            "image/png": "[encoded data removed]",
            "text/plain": [
              "<Figure size 720x360 with 1 Axes>"
            ]
          },
          "metadata": {
            "tags": [],
            "needs_background": "light"
          }
        },
        {
          "output_type": "display_data",
          "data": {
            "image/png": "[encoded data removed]",
            "text/plain": [
              "<Figure size 720x360 with 1 Axes>"
            ]
          },
          "metadata": {
            "tags": [],
            "needs_background": "light"
          }
        }
      ]
    },
    {
      "cell_type": "code",
      "metadata": {
        "id": "rrw-7rbxnvOH"
      },
      "source": [
        "# add noise to our sine function from the previous section\n",
        "y1 = y0 + z1  \n",
        "y2 = y0 + z2 "
      ],
      "execution_count": 78,
      "outputs": []
    },
    {
      "cell_type": "markdown",
      "metadata": {
        "id": "HMCsZHxrL15i"
      },
      "source": [
        "Now plot the results. Instead of plotting this data in two separate figures, we can use a single figure with two subplots (two sets of axes) using [`plt.subplots()`](https://matplotlib.org/3.1.0/gallery/subplots_axes_and_figures/subplots_demo.html)."
      ]
    },
    {
      "cell_type": "code",
      "metadata": {
        "id": "muyQCeqJNsnV",
        "colab": {
          "base_uri": "https://localhost:8080/",
          "height": 372
        },
        "outputId": "7cf02ba7-0825-4110-a221-93d36498491c"
      },
      "source": [
        "f, ax = plt.subplots(1, 2, sharey=True, figsize=(15, 5))  # the output `ax` let's us point to a specific axis\n",
        "\n",
        "ax[0].plot(x0, y0, color='black')  # notice the change in syntax, here we use ax[0].plot() instead of plt.plot() \n",
        "                                   # to add elements to the first subplot\n",
        "ax[0].scatter(x0, y1, color='skyblue')\n",
        "ax[0].set_title('Gaussian noise')  # notice the change in syntax, here we use ax[0].set_title() instead of plt.title()\n",
        "ax[0].set_xlabel('x')  \n",
        "ax[0].set_ylabel('y1')\n",
        "ax[0].set_xlim([-5, 5])\n",
        "\n",
        "ax[1].plot(x0, y0, color='black')  # to add elements to the second subplot, we use ax[1]\n",
        "ax[1].scatter(x0, y2, color='teal')\n",
        "ax[1].set_title('Uniform noise')\n",
        "ax[1].set_xlabel('x')\n",
        "ax[1].set_ylabel('y2')\n",
        "ax[1].set_xlim([-5, 5])\n",
        "ax[1].set_ylim([-1.5, 1.5])\n",
        "\n",
        "plt.show()"
      ],
      "execution_count": 79,
      "outputs": [
        {
          "output_type": "display_data",
          "data": {
            "image/png": "[encoded data removed]",
            "text/plain": [
              "<Figure size 1080x360 with 2 Axes>"
            ]
          },
          "metadata": {
            "tags": [],
            "needs_background": "light"
          }
        }
      ]
    },
    {
      "cell_type": "markdown",
      "metadata": {
        "id": "WZTijdy0PBxX"
      },
      "source": [
        "## Exercise 3B "
      ]
    },
    {
      "cell_type": "markdown",
      "metadata": {
        "id": "4kAN5OtFw_ll"
      },
      "source": [
        "### Step 1\n",
        "\n",
        "**Define a new function `new_func()`** with two arguments, `x` and `b` where `b` is NumPy array containing 5 parameter values: $ b = \\left[ b_{0}, b_{1}, b_{2}, b_{3}, b_{4}\\right]$. \n",
        "\n",
        "Your function should output the following:  $y = f(x; b) = b_{0}x^{b_{1}} + b_{2}\\cos\\left(\\frac{b_{3}\\cdot{}x}{\\pi}\\right) + b_{4}\\sqrt|x|$\n",
        "\n",
        "You can use NumPy array indexing to access the values of `b`, and NumPy functions `np.cos()`, `np.sqrt()`, `np.abs()` and constant `np.pi`. You can compute exponents using the following notion: `x**z` for $x^{z}$, and `+` and `*` for addition and multiplication by a scalar, respectively. "
      ]
    },
    {
      "cell_type": "code",
      "metadata": {
        "id": "SpersO6EycbU"
      },
      "source": [
        "def new_func(x, b):\n",
        "  y = b[0]*x**b[1]+b[2]*np.cos((b[3]*x)/np.pi)+b[4]*np.sqrt(np.abs(x))\n",
        "  return y\n"
      ],
      "execution_count": 83,
      "outputs": []
    },
    {
      "cell_type": "markdown",
      "metadata": {
        "id": "Yjxu_0U_yoCS"
      },
      "source": [
        "**Run the following code to compute  the function values on the interval $[-6, 6]$ for the $b$ parameter values given below:**"
      ]
    },
    {
      "cell_type": "code",
      "metadata": {
        "id": "fBBzMVtFqjOG",
        "colab": {
          "base_uri": "https://localhost:8080/",
          "height": 295
        },
        "outputId": "ee9a2496-de0e-4f99-b2e3-97fefd9c5659"
      },
      "source": [
        "numpoints = 241\n",
        "\n",
        "x = np.linspace(-6, 6, numpoints)\n",
        "b = np.array([0.1, 3, 7.6, 7.5, 17.5]) \n",
        "y = new_func(x, b)\n",
        "\n",
        "plt.plot(x,y)\n",
        "plt.xlabel('$x$')\n",
        "plt.ylabel('$f(x;b)$')\n",
        "plt.show()"
      ],
      "execution_count": 84,
      "outputs": [
        {
          "output_type": "display_data",
          "data": {
            "image/png": "[encoded data removed]",
            "text/plain": [
              "<Figure size 432x288 with 1 Axes>"
            ]
          },
          "metadata": {
            "tags": [],
            "needs_background": "light"
          }
        }
      ]
    },
    {
      "cell_type": "markdown",
      "metadata": {
        "id": "mQXX4ib933o1"
      },
      "source": [
        "### Step 2\n",
        "\n",
        "Use the `linspace()` method to create an array (called `x_sparse`) of 18 (`n_sparse`) evenly spaced points between -6.0 and 6.0.\n",
        "\n",
        "Use `random.normal()` to draw 18 Gaussian samples with a standard deviation of 2.0, store the samples in a variable called `g_noise`. Before you draw the samples, set the random seed value to 314."
      ]
    },
    {
      "cell_type": "code",
      "metadata": {
        "id": "t1AeUdwt2ilt"
      },
      "source": [
        "n_sparse = 18\n",
        "\n",
        "x_sparse = np.linspace(-6,6,n_sparse)\n",
        "\n",
        "np.random.seed(314) \n",
        "\n",
        "g_noise = np.random.normal(loc=0.0, scale=2, size=n_sparse)  \n",
        "\n",
        "\n",
        "\n",
        "y_sparse = new_func(x_sparse, b) + g_noise"
      ],
      "execution_count": 97,
      "outputs": []
    },
    {
      "cell_type": "markdown",
      "metadata": {
        "id": "p3v3zXBG5-C4"
      },
      "source": [
        "**Run this code to plot our function and 19 sparsely sampled points with Gaussian noise:** "
      ]
    },
    {
      "cell_type": "code",
      "metadata": {
        "id": "m_KmumkG0h_C",
        "colab": {
          "base_uri": "https://localhost:8080/",
          "height": 295
        },
        "outputId": "a674eb4c-ec2a-4fa0-a69f-238062e090f2"
      },
      "source": [
        "plt.plot(x,y)\n",
        "plt.scatter(x_sparse, y_sparse, color='black')\n",
        "plt.xlabel('$x$')\n",
        "plt.ylabel('$f(x;b)$')\n",
        "plt.show()"
      ],
      "execution_count": 98,
      "outputs": [
        {
          "output_type": "display_data",
          "data": {
            "image/png": "[encoded data removed]",
            "text/plain": [
              "<Figure size 432x288 with 1 Axes>"
            ]
          },
          "metadata": {
            "tags": [],
            "needs_background": "light"
          }
        }
      ]
    },
    {
      "cell_type": "markdown",
      "metadata": {
        "id": "q7M0soix6NGI"
      },
      "source": [
        "### Step 3"
      ]
    },
    {
      "cell_type": "markdown",
      "metadata": {
        "id": "Kn6OoUzL6YlZ"
      },
      "source": [
        "Now you will use the interpolate function in the SciPy package to fit a spline to your sampled points. Run the following code to import the `scipy` library. You will use `sp` to call SciPy functions. "
      ]
    },
    {
      "cell_type": "code",
      "metadata": {
        "id": "yslIiVer6P7b"
      },
      "source": [
        "import scipy as sp"
      ],
      "execution_count": 99,
      "outputs": []
    },
    {
      "cell_type": "markdown",
      "metadata": {
        "id": "Y39GJ-eq8M9l"
      },
      "source": [
        "**Use the `interpolate.interp1d()` function in SciPy with a `cubic` interpolation to fit a spline using the sparse data points (`x_sparse` and `y_sparse`).** \n",
        "\n",
        "The documentation for the `interp1d()` method can be found [here](https://docs.scipy.org/doc/scipy/reference/generated/scipy.interpolate.interp1d.html#scipy.interpolate.interp1d) and sample code that shows how to use this function can be found [here](https://scipython.com/book/chapter-8-scipy/examples/scipyinterpolateinterp1d/). The `interp1d()` uses linear interpolation by default, so you will need to use one of the arguments to specify kind of interpolation the function should use."
      ]
    },
    {
      "cell_type": "code",
      "metadata": {
        "id": "B6fMXQA36z-K"
      },
      "source": [
        "from scipy.interpolate import interp1d\n",
        "spline_func = interp1d(x_sparse,y_sparse, kind='cubic')\n",
        "\n",
        "y_pred = spline_func(x)"
      ],
      "execution_count": 106,
      "outputs": []
    },
    {
      "cell_type": "markdown",
      "metadata": {
        "id": "0Eb6WnRR-r6e"
      },
      "source": [
        "**Plot the original function, the sparsely sampled points, and the cubic interpolation in the same plot.** Include a legend for the plot ([see example](https://matplotlib.org/3.3.3/gallery/axes_grid1/parasite_simple.html#sphx-glr-gallery-axes-grid1-parasite-simple-py)). "
      ]
    },
    {
      "cell_type": "code",
      "metadata": {
        "id": "DO0wcCjx7tWH",
        "colab": {
          "base_uri": "https://localhost:8080/",
          "height": 350
        },
        "outputId": "009ef164-ca86-45e9-c3bc-af364448b24f"
      },
      "source": [
        "plt.figure(figsize=(10,5))\n",
        "\n",
        "\n",
        "\n",
        "plt.plot(x,y, label='f: true')\n",
        "plt.plot('''TODO''')\n",
        "plt.scatter(x_sparse, y_sparse, color='black', label='sampled points')\n",
        "\n",
        "\n",
        "plt.xlabel('$x$')\n",
        "plt.ylabel('$f(x;b)$')\n",
        "leg = plt.legend()\n",
        "plt.show()"
      ],
      "execution_count": 112,
      "outputs": [
        {
          "output_type": "display_data",
          "data": {
            "image/png": "[encoded data removed]",
            "text/plain": [
              "<Figure size 720x360 with 1 Axes>"
            ]
          },
          "metadata": {
            "tags": [],
            "needs_background": "light"
          }
        }
      ]
    },
    {
      "cell_type": "code",
      "metadata": {
        "id": "8_eIV7Hy3Cnl"
      },
      "source": [
        ""
      ],
      "execution_count": null,
      "outputs": []
    }
  ]
}